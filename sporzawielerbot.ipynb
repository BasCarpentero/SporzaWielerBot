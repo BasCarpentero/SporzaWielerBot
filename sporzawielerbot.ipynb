{
 "cells": [
  {
   "cell_type": "code",
   "execution_count": 1,
   "id": "c08904a8",
   "metadata": {
    "execution": {
     "iopub.execute_input": "2024-02-23T21:27:21.064520Z",
     "iopub.status.busy": "2024-02-23T21:27:21.063590Z",
     "iopub.status.idle": "2024-02-23T21:27:25.833792Z",
     "shell.execute_reply": "2024-02-23T21:27:25.832153Z"
    },
    "papermill": {
     "duration": 4.783906,
     "end_time": "2024-02-23T21:27:25.837006",
     "exception": false,
     "start_time": "2024-02-23T21:27:21.053100",
     "status": "completed"
    },
    "tags": []
   },
   "outputs": [],
   "source": [
    "from sklearn.model_selection import train_test_split\n",
    "from sklearn.preprocessing import OneHotEncoder\n",
    "from multiprocessing import Pool\n",
    "from bs4 import BeautifulSoup\n",
    "import lightgbm as lgb\n",
    "import pandas as pd\n",
    "import numpy as np\n",
    "import requests\n",
    "import time\n",
    "import re"
   ]
  },
  {
   "cell_type": "code",
   "execution_count": 2,
   "id": "2f428a30",
   "metadata": {
    "execution": {
     "iopub.execute_input": "2024-02-23T21:27:25.853567Z",
     "iopub.status.busy": "2024-02-23T21:27:25.852419Z",
     "iopub.status.idle": "2024-02-23T21:27:25.858875Z",
     "shell.execute_reply": "2024-02-23T21:27:25.857541Z"
    },
    "papermill": {
     "duration": 0.0178,
     "end_time": "2024-02-23T21:27:25.861275",
     "exception": false,
     "start_time": "2024-02-23T21:27:25.843475",
     "status": "completed"
    },
    "tags": []
   },
   "outputs": [],
   "source": [
    "sporza_races = [\n",
    "    \"omloop-het-nieuwsblad\",\n",
    "    \"kuurne-brussel-kuurne\",\n",
    "    \"gp-samyn\",\n",
    "    \"strade-bianche\",\n",
    "    \"nokere-koers\",\n",
    "    \"bredene-koksijde-classic\",\n",
    "    \"milano-sanremo\",\n",
    "    \"oxyclean-classic-brugge-de-panne\",\n",
    "    \"e3-harelbeke\",\n",
    "    \"gent-wevelgem\",\n",
    "    \"dwars-door-vlaanderen\",\n",
    "    \"ronde-van-vlaanderen\",\n",
    "    \"scheldeprijs\",\n",
    "    \"paris-roubaix\",\n",
    "    \"brabantse-pijl\",\n",
    "    \"amstel-gold-race\",\n",
    "    \"la-fleche-wallone\",\n",
    "    \"liege-bastogne-liege\"\n",
    "]"
   ]
  },
  {
   "cell_type": "markdown",
   "id": "6c2bb9fa",
   "metadata": {
    "papermill": {
     "duration": 0.005999,
     "end_time": "2024-02-23T21:27:25.874367",
     "exception": false,
     "start_time": "2024-02-23T21:27:25.868368",
     "status": "completed"
    },
    "tags": []
   },
   "source": [
    "Let's get the list of riders that start in each of the races this year. These will be fed to the model to be ranked later."
   ]
  },
  {
   "cell_type": "code",
   "execution_count": 3,
   "id": "c627f8dc",
   "metadata": {
    "execution": {
     "iopub.execute_input": "2024-02-23T21:27:25.889458Z",
     "iopub.status.busy": "2024-02-23T21:27:25.889010Z",
     "iopub.status.idle": "2024-02-23T21:27:35.232948Z",
     "shell.execute_reply": "2024-02-23T21:27:35.231463Z"
    },
    "papermill": {
     "duration": 9.355189,
     "end_time": "2024-02-23T21:27:35.236343",
     "exception": false,
     "start_time": "2024-02-23T21:27:25.881154",
     "status": "completed"
    },
    "tags": []
   },
   "outputs": [],
   "source": [
    "start_info = {}\n",
    "for race in sporza_races:\n",
    "    startlist = []\n",
    "    race_link = f\"https://www.procyclingstats.com/race/{race}/2024/startlist/startlist-quality\"\n",
    "    response = requests.get(race_link)\n",
    "    soup = BeautifulSoup(response.content, \"html.parser\")\n",
    "    table = soup.find(\"table\", class_=\"basic\")\n",
    "    for rider in table.find_all(\"tr\")[1:]:\n",
    "        try:\n",
    "            startlist.append(rider.find(\"a\")[\"href\"].split('/')[1])\n",
    "        except:\n",
    "            break\n",
    "    start_info[race] = startlist"
   ]
  },
  {
   "cell_type": "code",
   "execution_count": 4,
   "id": "2715d1b5",
   "metadata": {
    "execution": {
     "iopub.execute_input": "2024-02-23T21:27:35.252653Z",
     "iopub.status.busy": "2024-02-23T21:27:35.251305Z",
     "iopub.status.idle": "2024-02-23T21:27:35.262999Z",
     "shell.execute_reply": "2024-02-23T21:27:35.260953Z"
    },
    "papermill": {
     "duration": 0.023204,
     "end_time": "2024-02-23T21:27:35.266412",
     "exception": false,
     "start_time": "2024-02-23T21:27:35.243208",
     "status": "completed"
    },
    "tags": []
   },
   "outputs": [
    {
     "name": "stdout",
     "output_type": "stream",
     "text": [
      "Riders with the most participations:\n",
      "1. matej-mohoric: 11\n",
      "2. edward-theuns: 11\n",
      "3. jasper-philipsen: 10\n",
      "4. arnaud-de-lie: 10\n",
      "5. riley-sheehan: 10\n",
      "6. matevz-govekar: 10\n",
      "7. christophe-laporte: 9\n",
      "8. tim-wellens: 9\n",
      "9. jordi-meeus: 9\n",
      "10. jasper-stuyven: 9\n",
      "11. antonio-morgado: 9\n",
      "12. sander-de-pestel: 9\n",
      "13. soren-kragh-andersen: 9\n",
      "14. nils-eekhoff: 9\n",
      "15. marc-hirschi: 9\n",
      "\n",
      "There are 463/945 Sporza riders participating so far.\n"
     ]
    }
   ],
   "source": [
    "from collections import Counter\n",
    "\n",
    "all_names = [name for names in start_info.values() for name in names]\n",
    "name_counts = Counter(all_names)\n",
    "name_counts = sorted(name_counts.items(), key=lambda x: x[1], reverse=True)\n",
    "print(\"Riders with the most participations:\")\n",
    "for rank, (name, count) in enumerate(name_counts, 1):\n",
    "    if count >= 9:\n",
    "        print(f\"{rank}. {name}: {count}\")\n",
    "        \n",
    "num_unique_names = len(set(name for names in start_info.values() for name in names))\n",
    "print(\"\")\n",
    "print(f\"There are {num_unique_names}/945 Sporza riders participating so far.\")"
   ]
  },
  {
   "cell_type": "markdown",
   "id": "dc7dddd9",
   "metadata": {
    "papermill": {
     "duration": 0.006024,
     "end_time": "2024-02-23T21:27:35.279293",
     "exception": false,
     "start_time": "2024-02-23T21:27:35.273269",
     "status": "completed"
    },
    "tags": []
   },
   "source": [
    "Let's get the top x riders from https://www.procyclingstats.com/rankings.php and create a dictionary to store their respective names (as the procyclingstats identifier of the form first_name-family_name), teams and PCS points."
   ]
  },
  {
   "cell_type": "code",
   "execution_count": 5,
   "id": "9743629c",
   "metadata": {
    "execution": {
     "iopub.execute_input": "2024-02-23T21:27:35.295536Z",
     "iopub.status.busy": "2024-02-23T21:27:35.294918Z",
     "iopub.status.idle": "2024-02-23T21:27:35.303697Z",
     "shell.execute_reply": "2024-02-23T21:27:35.302310Z"
    },
    "papermill": {
     "duration": 0.020359,
     "end_time": "2024-02-23T21:27:35.306116",
     "exception": false,
     "start_time": "2024-02-23T21:27:35.285757",
     "status": "completed"
    },
    "tags": []
   },
   "outputs": [],
   "source": [
    "def get_riders_teams_PCSpoints(n_riders, rider_data):\n",
    "    for i in range (n_riders//100):\n",
    "        PCS_ranking_url = f\"\"\"https://www.procyclingstats.com/rankings.php?\n",
    "                          nation=&age=&zage=&page=smallerorequal&team=&offset={100*i}\n",
    "                          &teamlevel=&filter=Filter\"\"\"\n",
    "        response = requests.get(PCS_ranking_url)\n",
    "        soup = BeautifulSoup(response.content, \"html.parser\")\n",
    "        ranking_table = soup.find(\"table\", class_=\"basic\")\n",
    "        for row in ranking_table.find_all(\"tr\")[1:]:\n",
    "            links = row.find_all(\"a\", href=True)\n",
    "            rider = links[0].get(\"href\").split(\"/\")[-1]\n",
    "            team = links[1].get(\"href\").split(\"/\")[-1]\n",
    "            points = links[2].text        \n",
    "            rider_data[rider] = {\"Team\": team, \"PCSpoints\": points}"
   ]
  },
  {
   "cell_type": "markdown",
   "id": "fc2a1978",
   "metadata": {
    "papermill": {
     "duration": 0.006893,
     "end_time": "2024-02-23T21:27:35.319315",
     "exception": false,
     "start_time": "2024-02-23T21:27:35.312422",
     "status": "completed"
    },
    "tags": []
   },
   "source": [
    "Let's use the rider identifiers to retrieve their age and weight."
   ]
  },
  {
   "cell_type": "code",
   "execution_count": 6,
   "id": "3cff6ab7",
   "metadata": {
    "execution": {
     "iopub.execute_input": "2024-02-23T21:27:35.335557Z",
     "iopub.status.busy": "2024-02-23T21:27:35.334358Z",
     "iopub.status.idle": "2024-02-23T21:27:35.343624Z",
     "shell.execute_reply": "2024-02-23T21:27:35.342313Z"
    },
    "papermill": {
     "duration": 0.019972,
     "end_time": "2024-02-23T21:27:35.346127",
     "exception": false,
     "start_time": "2024-02-23T21:27:35.326155",
     "status": "completed"
    },
    "tags": []
   },
   "outputs": [],
   "source": [
    "def get_age_weight(rider_data):\n",
    "    for rider in rider_data.keys():\n",
    "        rider_profile_url = f\"https://www.procyclingstats.com/rider/{rider}\"\n",
    "        response = requests.get(rider_profile_url)\n",
    "        soup = BeautifulSoup(response.content, \"html.parser\")\n",
    "        info = soup.find(\"div\", class_ =\"rdr-info-cont\")\n",
    "        fields = info.find_all(\"b\")\n",
    "        try:\n",
    "            rider_data[rider][\"Age\"] = re.search(r'\\((.*?)\\)', info.text).group(1)\n",
    "        except(AttributeError):\n",
    "            rider_data[rider][\"Age\"] = 27\n",
    "        for field in fields:\n",
    "            label = field.get_text(strip=True)\n",
    "            if label not in [\"\", \"Date of birth:\", \"Nationality:\", \"Place of birth:\"]:\n",
    "                value = field.next_sibling.strip()\n",
    "                rider_data[rider][label] = value"
   ]
  },
  {
   "cell_type": "markdown",
   "id": "1e3e1238",
   "metadata": {
    "papermill": {
     "duration": 0.00602,
     "end_time": "2024-02-23T21:27:35.358654",
     "exception": false,
     "start_time": "2024-02-23T21:27:35.352634",
     "status": "completed"
    },
    "tags": []
   },
   "source": [
    "Trying to parallellise the get_age_weight function because it consists of seuentially retrieving the same information of all rider profiles."
   ]
  },
  {
   "cell_type": "code",
   "execution_count": 7,
   "id": "380fd472",
   "metadata": {
    "execution": {
     "iopub.execute_input": "2024-02-23T21:27:35.374981Z",
     "iopub.status.busy": "2024-02-23T21:27:35.374187Z",
     "iopub.status.idle": "2024-02-23T21:27:35.384110Z",
     "shell.execute_reply": "2024-02-23T21:27:35.382551Z"
    },
    "papermill": {
     "duration": 0.022279,
     "end_time": "2024-02-23T21:27:35.387146",
     "exception": false,
     "start_time": "2024-02-23T21:27:35.364867",
     "status": "completed"
    },
    "tags": []
   },
   "outputs": [],
   "source": [
    "def get_age_weight_parallel(rider_data):\n",
    "    riders = list(rider_data.keys())\n",
    "    with Pool() as pool:\n",
    "        results = pool.map(get_age_weight_single_rider, riders)\n",
    "        for result in results:\n",
    "            rider = result[\"rider\"]\n",
    "            del result[\"rider\"]\n",
    "            rider_data[rider].update(result)\n",
    "    \n",
    "def get_age_weight_single_rider(rider):\n",
    "        rider_profile_url = f\"https://www.procyclingstats.com/rider/{rider}\"\n",
    "        response = requests.get(rider_profile_url)\n",
    "        soup = BeautifulSoup(response.content, \"html.parser\")\n",
    "        info = soup.find(\"div\", class_ =\"rdr-info-cont\")\n",
    "        print(info)\n",
    "        nationality = info.find('a').text\n",
    "        fields = info.find_all(\"b\")\n",
    "        try:\n",
    "            age = re.search(r'\\((.*?)\\)', info.text).group(1)\n",
    "        except(AttributeError):\n",
    "            age = 27\n",
    "        for field in fields:\n",
    "            label = field.get_text(strip=True)\n",
    "            weight = 0\n",
    "            if label not in [\"\", \"Date of birth:\", \"Nationality:\" \"Place of birth:\"]:\n",
    "                value = field.next_sibling.strip()\n",
    "                print(f\"{label} is {value}\")\n",
    "                weight = value\n",
    "\n",
    "        return {\"rider\": rider, \"age\": age, \"weight\": weight, \"nationality\": nationality}"
   ]
  },
  {
   "cell_type": "code",
   "execution_count": 8,
   "id": "1a7f26b8",
   "metadata": {
    "execution": {
     "iopub.execute_input": "2024-02-23T21:27:35.402128Z",
     "iopub.status.busy": "2024-02-23T21:27:35.401627Z",
     "iopub.status.idle": "2024-02-23T21:27:35.414463Z",
     "shell.execute_reply": "2024-02-23T21:27:35.413185Z"
    },
    "papermill": {
     "duration": 0.02412,
     "end_time": "2024-02-23T21:27:35.417709",
     "exception": false,
     "start_time": "2024-02-23T21:27:35.393589",
     "status": "completed"
    },
    "tags": []
   },
   "outputs": [],
   "source": [
    "def get_sporza_results(years, rider_data, DN_values):\n",
    "    count = 0\n",
    "    for race in sporza_races:\n",
    "        for year in years:\n",
    "            race_name = f\"{race}/{year}\"\n",
    "            race_url = f\"https://www.procyclingstats.com/race/{race_name}/result\"\n",
    "            try:\n",
    "                response = requests.get(race_url)\n",
    "                count += 1\n",
    "            except:\n",
    "                print(f\"Page {race_url} didn't respond.\")\n",
    "            soup = BeautifulSoup(response.content, \"html.parser\")\n",
    "            for row in soup.find(\"tbody\").find_all(\"tr\"):\n",
    "                rider = row.find(\"input\", class_=\"gotoH2H\").get(\"data-seo\")\n",
    "                if rider in rider_data.keys():\n",
    "                    fields = row.find_all(\"td\")\n",
    "                    placement = fields[0].get_text(strip=True)\n",
    "                    if placement == \"DNS\":\n",
    "                        placement = DN_values[0]\n",
    "                    if placement == \"DNF\":\n",
    "                        placement = DN_values[1]\n",
    "                    if placement == \"OTL\":\n",
    "                        placement = DN_values[1]\n",
    "                    if placement == \"DSQ\":\n",
    "                        placement = DN_values[2]\n",
    "                    UCI_points = fields[7].get_text(strip=True)\n",
    "                    ptn = fields[8].get_text(strip=True)\n",
    "                    rider_data[rider][race_name] = int(placement)\n",
    "                    if UCI_points != \"\":\n",
    "                        if \"UCI_points\" in rider_data.get(rider, {}):\n",
    "                            rider_data[rider][\"UCI_points\"] += int(UCI_points)\n",
    "                        else:\n",
    "                             rider_data[rider][f\"UCI_points\"] = int(UCI_points)\n",
    "                    if ptn != \"\":\n",
    "                        if f\"ptn/{year}\" in rider_data.get(rider, {}):\n",
    "                            rider_data[rider][f\"ptn/{year}\"] += int(ptn)\n",
    "                        else:\n",
    "                             rider_data[rider][f\"ptn/{year}\"] = int(ptn)\n",
    "    print(f\"\"\"Successfully retrieved the results of\n",
    "          {count}/{len(sporza_races)*len(years)} races.\"\"\")"
   ]
  },
  {
   "cell_type": "markdown",
   "id": "f2b99643",
   "metadata": {
    "papermill": {
     "duration": 0.005963,
     "end_time": "2024-02-23T21:27:35.430510",
     "exception": false,
     "start_time": "2024-02-23T21:27:35.424547",
     "status": "completed"
    },
    "tags": []
   },
   "source": [
    "Preprocessing of the retrieved data includes:\n",
    "* Creating a dataframe of the retrieved data\n",
    "* Resetting the index so the rider's names are in a separate column\n",
    "* Renaming some columns\n",
    "* Converting the team name using a one hot encoding\n",
    "* Converting PCSpoints and Age from string to int and cut\n",
    "* Converting the Weight and Heights strings to int and float respectively as well. If a rider has not gained points in a certain season, let's set it to zero instead of NaN.\n",
    "* Setting missing Weight and Height values to the respective modal values\n",
    "* Converting all race results to integers. x for DNS, y for DNF/OTL and z for DSQ."
   ]
  },
  {
   "cell_type": "code",
   "execution_count": 9,
   "id": "b713b279",
   "metadata": {
    "execution": {
     "iopub.execute_input": "2024-02-23T21:27:35.446174Z",
     "iopub.status.busy": "2024-02-23T21:27:35.445547Z",
     "iopub.status.idle": "2024-02-23T21:27:35.456025Z",
     "shell.execute_reply": "2024-02-23T21:27:35.454755Z"
    },
    "papermill": {
     "duration": 0.021579,
     "end_time": "2024-02-23T21:27:35.458526",
     "exception": false,
     "start_time": "2024-02-23T21:27:35.436947",
     "status": "completed"
    },
    "tags": []
   },
   "outputs": [],
   "source": [
    "def preprocess_rider_data(years, rider_data):\n",
    "    rider_data = pd.DataFrame(rider_data).T\n",
    "    #rider_data.reset_index(inplace=True)\n",
    "    rider_data.rename(columns={\"index\": \"Name\", \"Weight:\": \"Weight\", \"Height:\": \"Height\"}, inplace=True)\n",
    "    rider_data = pd.get_dummies(rider_data, columns=[\"Team\"])\n",
    "    rider_data[\"PCSpoints\"] = rider_data[\"PCSpoints\"].astype(int)\n",
    "    rider_data[\"Age\"] = rider_data[\"Age\"].astype(int)\n",
    "    rider_data[\"Weight\"] = rider_data[\"Weight\"].apply(\n",
    "        lambda x: int(x[:2]) if isinstance(x, str) else x)\n",
    "    rider_data[\"Weight\"].fillna(rider_data[\"Weight\"].mode()[0], inplace=True)\n",
    "    rider_data[\"Weight\"] = rider_data[\"Weight\"].infer_objects(copy=False)\n",
    "    rider_data[\"Height\"] = rider_data[\"Height\"].apply(\n",
    "        lambda x: float(x.split()[0]) if isinstance(x, str) else x)\n",
    "    rider_data[\"Height\"].fillna(rider_data[\"Height\"].mode()[0], inplace=True)\n",
    "    rider_data[\"Height\"] = rider_data[\"Height\"].infer_objects(copy=False)\n",
    "    for year in years:\n",
    "        rider_data[f\"ptn/{year}\"] = rider_data[f\"ptn/{year}\"].fillna(0).infer_objects(copy=False)\n",
    "    rider_data['UCI_points'] = rider_data['UCI_points'].fillna(0).infer_objects(copy=False)\n",
    "    return rider_data"
   ]
  },
  {
   "cell_type": "code",
   "execution_count": 10,
   "id": "31f7c9cf",
   "metadata": {
    "execution": {
     "iopub.execute_input": "2024-02-23T21:27:35.473700Z",
     "iopub.status.busy": "2024-02-23T21:27:35.473188Z",
     "iopub.status.idle": "2024-02-23T21:30:01.018932Z",
     "shell.execute_reply": "2024-02-23T21:30:01.016768Z"
    },
    "papermill": {
     "duration": 145.556471,
     "end_time": "2024-02-23T21:30:01.021506",
     "exception": false,
     "start_time": "2024-02-23T21:27:35.465035",
     "status": "completed"
    },
    "tags": []
   },
   "outputs": [
    {
     "name": "stdout",
     "output_type": "stream",
     "text": [
      "Retrieving rider names, teams and number of PCS points.\n",
      "Information retrieved in 1.5301237106323242 seconds.\n",
      "----------------------------------------------------------\n",
      "Retrieving age and weight.\n",
      "Information retrieved in 114.92902517318726 seconds.\n",
      "----------------------------------------------------------\n",
      "Retrieving race results.\n",
      "Successfully retrieved the results of\n",
      "          36/36 races.\n",
      "Information retrieved in 29.029501914978027 seconds.\n",
      "----------------------------------------------------------\n",
      "Preprocessing data.\n"
     ]
    },
    {
     "name": "stderr",
     "output_type": "stream",
     "text": [
      "/tmp/ipykernel_18/673294439.py:10: FutureWarning: A value is trying to be set on a copy of a DataFrame or Series through chained assignment using an inplace method.\n",
      "The behavior will change in pandas 3.0. This inplace method will never work because the intermediate object on which we are setting values always behaves as a copy.\n",
      "\n",
      "For example, when doing 'df[col].method(value, inplace=True)', try using 'df.method({col: value}, inplace=True)' or df[col] = df[col].method(value) instead, to perform the operation inplace on the original object.\n",
      "\n",
      "\n",
      "  rider_data[\"Weight\"].fillna(rider_data[\"Weight\"].mode()[0], inplace=True)\n",
      "/tmp/ipykernel_18/673294439.py:14: FutureWarning: A value is trying to be set on a copy of a DataFrame or Series through chained assignment using an inplace method.\n",
      "The behavior will change in pandas 3.0. This inplace method will never work because the intermediate object on which we are setting values always behaves as a copy.\n",
      "\n",
      "For example, when doing 'df[col].method(value, inplace=True)', try using 'df.method({col: value}, inplace=True)' or df[col] = df[col].method(value) instead, to perform the operation inplace on the original object.\n",
      "\n",
      "\n",
      "  rider_data[\"Height\"].fillna(rider_data[\"Height\"].mode()[0], inplace=True)\n",
      "/tmp/ipykernel_18/673294439.py:17: FutureWarning: Downcasting object dtype arrays on .fillna, .ffill, .bfill is deprecated and will change in a future version. Call result.infer_objects(copy=False) instead. To opt-in to the future behavior, set `pd.set_option('future.no_silent_downcasting', True)`\n",
      "  rider_data[f\"ptn/{year}\"] = rider_data[f\"ptn/{year}\"].fillna(0).infer_objects(copy=False)\n",
      "/tmp/ipykernel_18/673294439.py:18: FutureWarning: Downcasting object dtype arrays on .fillna, .ffill, .bfill is deprecated and will change in a future version. Call result.infer_objects(copy=False) instead. To opt-in to the future behavior, set `pd.set_option('future.no_silent_downcasting', True)`\n",
      "  rider_data['UCI_points'] = rider_data['UCI_points'].fillna(0).infer_objects(copy=False)\n"
     ]
    }
   ],
   "source": [
    "n_riders = 200\n",
    "DN_values = [100, 200, 300] # Placement if a rider DNS, DNF/OTL and DSQ respectively\n",
    "#years = [2018, 2019, 2021, 2022, 2023]\n",
    "years = [2022, 2023]\n",
    "rider_data = {}\n",
    "\n",
    "print(\"Retrieving rider names, teams and number of PCS points.\")\n",
    "start_time = time.time()\n",
    "get_riders_teams_PCSpoints(n_riders, rider_data)\n",
    "end_time = time.time()\n",
    "print(f\"Information retrieved in {end_time - start_time} seconds.\")\n",
    "print(\"----------------------------------------------------------\")\n",
    "\n",
    "print(\"Retrieving age and weight.\")\n",
    "start_time = time.time()\n",
    "get_age_weight(rider_data)\n",
    "end_time = time.time()\n",
    "print(f\"Information retrieved in {end_time - start_time} seconds.\")\n",
    "print(\"----------------------------------------------------------\")\n",
    "\n",
    "print(\"Retrieving race results.\")\n",
    "start_time = time.time()\n",
    "get_sporza_results(years, rider_data, DN_values)\n",
    "end_time = time.time()\n",
    "print(f\"Information retrieved in {end_time - start_time} seconds.\")\n",
    "print(\"----------------------------------------------------------\")\n",
    "\n",
    "print(\"Preprocessing data.\")\n",
    "rider_data = preprocess_rider_data(years, rider_data)"
   ]
  },
  {
   "cell_type": "markdown",
   "id": "7c671aaa",
   "metadata": {
    "papermill": {
     "duration": 0.006661,
     "end_time": "2024-02-23T21:30:01.036187",
     "exception": false,
     "start_time": "2024-02-23T21:30:01.029526",
     "status": "completed"
    },
    "tags": []
   },
   "source": [
    "The data is ready to be formatted for the model now. For each race, all riders that participated in that race will form a group together and the inverse of their placement will serve as a relevance score."
   ]
  },
  {
   "cell_type": "code",
   "execution_count": 11,
   "id": "0c4a4dd4",
   "metadata": {
    "execution": {
     "iopub.execute_input": "2024-02-23T21:30:01.052061Z",
     "iopub.status.busy": "2024-02-23T21:30:01.051398Z",
     "iopub.status.idle": "2024-02-23T21:30:01.355764Z",
     "shell.execute_reply": "2024-02-23T21:30:01.354521Z"
    },
    "papermill": {
     "duration": 0.319021,
     "end_time": "2024-02-23T21:30:01.361946",
     "exception": false,
     "start_time": "2024-02-23T21:30:01.042925",
     "status": "completed"
    },
    "tags": []
   },
   "outputs": [
    {
     "name": "stdout",
     "output_type": "stream",
     "text": [
      "                              ID  Objective  PCSpoints  Age  Weight  Height  \\\n",
      "0     omloop-het-nieuwsblad/2022          1       2167   29    78.0    1.90   \n",
      "1     omloop-het-nieuwsblad/2022         17       1314   29    72.0    1.86   \n",
      "2     omloop-het-nieuwsblad/2022         75       1118   23    65.0    1.75   \n",
      "3     omloop-het-nieuwsblad/2022         18       1035   24    58.0    1.70   \n",
      "4     omloop-het-nieuwsblad/2022         56        927   24    62.0    1.76   \n",
      "...                          ...        ...        ...  ...     ...     ...   \n",
      "1351   liege-bastogne-liege/2023         21        378   26    63.0    1.77   \n",
      "1352   liege-bastogne-liege/2023         39        360   25    64.0    1.79   \n",
      "1353   liege-bastogne-liege/2023         92        357   23    67.0    1.81   \n",
      "1354   liege-bastogne-liege/2023         37        348   26    61.0    1.75   \n",
      "1355   liege-bastogne-liege/2023         25        321   34    67.0    1.73   \n",
      "\n",
      "      brabantse-pijl/2022  UCI_points  ptn/2022  la-fleche-wallone/2022  ...  \\\n",
      "0                     100        3890       904                     100  ...   \n",
      "1                     100        1823       583                     100  ...   \n",
      "2                      37        1001        20                     130  ...   \n",
      "3                       5        1989       254                     200  ...   \n",
      "4                      54          83        20                      20  ...   \n",
      "...                   ...         ...       ...                     ...  ...   \n",
      "1351                  100          71         0                     100  ...   \n",
      "1352                  100          63         0                     100  ...   \n",
      "1353                  100          10        15                     200  ...   \n",
      "1354                  100          49        16                      28  ...   \n",
      "1355                  200         318       187                     100  ...   \n",
      "\n",
      "      Team_tarteletto-isorex-2024  Team_team-dsm-firmenich-postnl-2024  \\\n",
      "0                           False                                False   \n",
      "1                           False                                False   \n",
      "2                           False                                False   \n",
      "3                           False                                False   \n",
      "4                           False                                False   \n",
      "...                           ...                                  ...   \n",
      "1351                        False                                False   \n",
      "1352                        False                                False   \n",
      "1353                        False                                 True   \n",
      "1354                        False                                False   \n",
      "1355                        False                                False   \n",
      "\n",
      "      Team_team-jayco-alula-2024  Team_team-medellin-2024  \\\n",
      "0                          False                    False   \n",
      "1                          False                    False   \n",
      "2                          False                    False   \n",
      "3                          False                    False   \n",
      "4                          False                    False   \n",
      "...                          ...                      ...   \n",
      "1351                       False                    False   \n",
      "1352                       False                    False   \n",
      "1353                       False                    False   \n",
      "1354                       False                    False   \n",
      "1355                       False                    False   \n",
      "\n",
      "      Team_team-totalenergies-2024  Team_team-visma-lease-a-bike-2024  \\\n",
      "0                            False                               True   \n",
      "1                            False                              False   \n",
      "2                            False                              False   \n",
      "3                            False                              False   \n",
      "4                            False                              False   \n",
      "...                            ...                                ...   \n",
      "1351                         False                              False   \n",
      "1352                         False                              False   \n",
      "1353                         False                              False   \n",
      "1354                         False                              False   \n",
      "1355                         False                               True   \n",
      "\n",
      "      Team_tudor-pro-cycling-team-2024  Team_uae-team-emirates-2024  \\\n",
      "0                                False                        False   \n",
      "1                                False                        False   \n",
      "2                                False                        False   \n",
      "3                                False                        False   \n",
      "4                                False                        False   \n",
      "...                                ...                          ...   \n",
      "1351                             False                        False   \n",
      "1352                             False                        False   \n",
      "1353                             False                        False   \n",
      "1354                             False                        False   \n",
      "1355                             False                        False   \n",
      "\n",
      "      Team_uno-x-mobility-2024  omloop-het-nieuwsblad/2022  \n",
      "0                        False                         100  \n",
      "1                        False                         100  \n",
      "2                        False                         100  \n",
      "3                        False                         100  \n",
      "4                         True                         100  \n",
      "...                        ...                         ...  \n",
      "1351                     False                         100  \n",
      "1352                     False                         100  \n",
      "1353                     False                         100  \n",
      "1354                     False                         100  \n",
      "1355                     False                         100  \n",
      "\n",
      "[1356 rows x 75 columns]\n"
     ]
    },
    {
     "name": "stderr",
     "output_type": "stream",
     "text": [
      "/tmp/ipykernel_18/266637646.py:12: FutureWarning: Downcasting object dtype arrays on .fillna, .ffill, .bfill is deprecated and will change in a future version. Call result.infer_objects(copy=False) instead. To opt-in to the future behavior, set `pd.set_option('future.no_silent_downcasting', True)`\n",
      "  q_rider_data.fillna(100, inplace=True)\n"
     ]
    }
   ],
   "source": [
    "q_rider_data = pd.DataFrame()\n",
    "for race in sporza_races:\n",
    "    for year in years:\n",
    "        race_name = f\"{race}/{year}\"\n",
    "        participating_riders = rider_data[rider_data[race_name].notna()].copy()\n",
    "        # The next line will set the race results as the objective for the group. The original results\n",
    "        # will be set to NaN so they don't are exactly the same as the objective.\n",
    "        participating_riders[\"ID\"] = race_name\n",
    "        participating_riders.rename(columns={race_name: \"Objective\"}, inplace=True)\n",
    "        q_rider_data = pd.concat([q_rider_data, participating_riders], ignore_index=True)\n",
    "q_rider_data = q_rider_data[[\"ID\", \"Objective\"] + [col for col in q_rider_data.columns if col not in [\"ID\", \"Objective\"]]]\n",
    "q_rider_data.fillna(100, inplace=True)\n",
    "q_rider_data[\"Objective\"] = q_rider_data[\"Objective\"].astype(int)\n",
    "print(q_rider_data)"
   ]
  },
  {
   "cell_type": "markdown",
   "id": "e37ba5e7",
   "metadata": {
    "papermill": {
     "duration": 0.006932,
     "end_time": "2024-02-23T21:30:01.378141",
     "exception": false,
     "start_time": "2024-02-23T21:30:01.371209",
     "status": "completed"
    },
    "tags": []
   },
   "source": [
    "Each ID now represents a race. All riders that have competed in that race have a copy of their stats with this ID and their result in that race set as the objective. Their original result column is set to 100 because otherwise it would be the same as the objective."
   ]
  },
  {
   "cell_type": "markdown",
   "id": "d8b3db58",
   "metadata": {
    "papermill": {
     "duration": 0.006826,
     "end_time": "2024-02-23T21:30:01.394161",
     "exception": false,
     "start_time": "2024-02-23T21:30:01.387335",
     "status": "completed"
    },
    "tags": []
   },
   "source": [
    "The train-test split."
   ]
  },
  {
   "cell_type": "code",
   "execution_count": 12,
   "id": "ac00a3cd",
   "metadata": {
    "execution": {
     "iopub.execute_input": "2024-02-23T21:30:01.411371Z",
     "iopub.status.busy": "2024-02-23T21:30:01.410870Z",
     "iopub.status.idle": "2024-02-23T21:30:01.429019Z",
     "shell.execute_reply": "2024-02-23T21:30:01.427743Z"
    },
    "papermill": {
     "duration": 0.03068,
     "end_time": "2024-02-23T21:30:01.431805",
     "exception": false,
     "start_time": "2024-02-23T21:30:01.401125",
     "status": "completed"
    },
    "tags": []
   },
   "outputs": [],
   "source": [
    "training_percentage = 0.8\n",
    "cut_off = round(training_percentage*q_rider_data.shape[0])\n",
    "train_df = q_rider_data[:cut_off]  # first 80%\n",
    "validation_df = q_rider_data[cut_off:]  # remaining 20%\n",
    "q_train = train_df.groupby(\"ID\")[\"ID\"].count().to_numpy()\n",
    "X_train = train_df.drop([\"ID\", \"Objective\"], axis=1)\n",
    "y_train = train_df[\"Objective\"]\n",
    "\n",
    "q_validation = validation_df.groupby(\"ID\")[\"ID\"].count().to_numpy()\n",
    "X_validation = validation_df.drop([\"ID\", \"Objective\"], axis=1)\n",
    "y_validation = validation_df[\"Objective\"]"
   ]
  },
  {
   "cell_type": "markdown",
   "id": "bf86649f",
   "metadata": {
    "papermill": {
     "duration": 0.007922,
     "end_time": "2024-02-23T21:30:01.447153",
     "exception": false,
     "start_time": "2024-02-23T21:30:01.439231",
     "status": "completed"
    },
    "tags": []
   },
   "source": [
    "Model training."
   ]
  },
  {
   "cell_type": "code",
   "execution_count": 13,
   "id": "9b016604",
   "metadata": {
    "_kg_hide-input": true,
    "execution": {
     "iopub.execute_input": "2024-02-23T21:30:01.465007Z",
     "iopub.status.busy": "2024-02-23T21:30:01.464172Z",
     "iopub.status.idle": "2024-02-23T21:30:02.046855Z",
     "shell.execute_reply": "2024-02-23T21:30:02.045103Z"
    },
    "papermill": {
     "duration": 0.594884,
     "end_time": "2024-02-23T21:30:02.050252",
     "exception": false,
     "start_time": "2024-02-23T21:30:01.455368",
     "status": "completed"
    },
    "tags": []
   },
   "outputs": [
    {
     "name": "stdout",
     "output_type": "stream",
     "text": [
      "[LightGBM] [Info] Auto-choosing row-wise multi-threading, the overhead of testing was 0.002409 seconds.\n",
      "You can set `force_row_wise=true` to remove the overhead.\n",
      "And if memory is not enough, you can set `force_col_wise=true`.\n",
      "[LightGBM] [Info] Total Bins 1502\n",
      "[LightGBM] [Info] Number of data points in the train set: 1085, number of used features: 64\n"
     ]
    },
    {
     "data": {
      "text/html": [
       "<style>#sk-container-id-1 {color: black;background-color: white;}#sk-container-id-1 pre{padding: 0;}#sk-container-id-1 div.sk-toggleable {background-color: white;}#sk-container-id-1 label.sk-toggleable__label {cursor: pointer;display: block;width: 100%;margin-bottom: 0;padding: 0.3em;box-sizing: border-box;text-align: center;}#sk-container-id-1 label.sk-toggleable__label-arrow:before {content: \"▸\";float: left;margin-right: 0.25em;color: #696969;}#sk-container-id-1 label.sk-toggleable__label-arrow:hover:before {color: black;}#sk-container-id-1 div.sk-estimator:hover label.sk-toggleable__label-arrow:before {color: black;}#sk-container-id-1 div.sk-toggleable__content {max-height: 0;max-width: 0;overflow: hidden;text-align: left;background-color: #f0f8ff;}#sk-container-id-1 div.sk-toggleable__content pre {margin: 0.2em;color: black;border-radius: 0.25em;background-color: #f0f8ff;}#sk-container-id-1 input.sk-toggleable__control:checked~div.sk-toggleable__content {max-height: 200px;max-width: 100%;overflow: auto;}#sk-container-id-1 input.sk-toggleable__control:checked~label.sk-toggleable__label-arrow:before {content: \"▾\";}#sk-container-id-1 div.sk-estimator input.sk-toggleable__control:checked~label.sk-toggleable__label {background-color: #d4ebff;}#sk-container-id-1 div.sk-label input.sk-toggleable__control:checked~label.sk-toggleable__label {background-color: #d4ebff;}#sk-container-id-1 input.sk-hidden--visually {border: 0;clip: rect(1px 1px 1px 1px);clip: rect(1px, 1px, 1px, 1px);height: 1px;margin: -1px;overflow: hidden;padding: 0;position: absolute;width: 1px;}#sk-container-id-1 div.sk-estimator {font-family: monospace;background-color: #f0f8ff;border: 1px dotted black;border-radius: 0.25em;box-sizing: border-box;margin-bottom: 0.5em;}#sk-container-id-1 div.sk-estimator:hover {background-color: #d4ebff;}#sk-container-id-1 div.sk-parallel-item::after {content: \"\";width: 100%;border-bottom: 1px solid gray;flex-grow: 1;}#sk-container-id-1 div.sk-label:hover label.sk-toggleable__label {background-color: #d4ebff;}#sk-container-id-1 div.sk-serial::before {content: \"\";position: absolute;border-left: 1px solid gray;box-sizing: border-box;top: 0;bottom: 0;left: 50%;z-index: 0;}#sk-container-id-1 div.sk-serial {display: flex;flex-direction: column;align-items: center;background-color: white;padding-right: 0.2em;padding-left: 0.2em;position: relative;}#sk-container-id-1 div.sk-item {position: relative;z-index: 1;}#sk-container-id-1 div.sk-parallel {display: flex;align-items: stretch;justify-content: center;background-color: white;position: relative;}#sk-container-id-1 div.sk-item::before, #sk-container-id-1 div.sk-parallel-item::before {content: \"\";position: absolute;border-left: 1px solid gray;box-sizing: border-box;top: 0;bottom: 0;left: 50%;z-index: -1;}#sk-container-id-1 div.sk-parallel-item {display: flex;flex-direction: column;z-index: 1;position: relative;background-color: white;}#sk-container-id-1 div.sk-parallel-item:first-child::after {align-self: flex-end;width: 50%;}#sk-container-id-1 div.sk-parallel-item:last-child::after {align-self: flex-start;width: 50%;}#sk-container-id-1 div.sk-parallel-item:only-child::after {width: 0;}#sk-container-id-1 div.sk-dashed-wrapped {border: 1px dashed gray;margin: 0 0.4em 0.5em 0.4em;box-sizing: border-box;padding-bottom: 0.4em;background-color: white;}#sk-container-id-1 div.sk-label label {font-family: monospace;font-weight: bold;display: inline-block;line-height: 1.2em;}#sk-container-id-1 div.sk-label-container {text-align: center;}#sk-container-id-1 div.sk-container {/* jupyter's `normalize.less` sets `[hidden] { display: none; }` but bootstrap.min.css set `[hidden] { display: none !important; }` so we also need the `!important` here to be able to override the default hidden behavior on the sphinx rendered scikit-learn.org. See: https://github.com/scikit-learn/scikit-learn/issues/21755 */display: inline-block !important;position: relative;}#sk-container-id-1 div.sk-text-repr-fallback {display: none;}</style><div id=\"sk-container-id-1\" class=\"sk-top-container\"><div class=\"sk-text-repr-fallback\"><pre>LGBMRanker(label_gain=[0, 1, 2, 3, 4, 5, 6, 7, 8, 9, 10, 11, 12, 13, 14, 15, 16,\n",
       "                       17, 18, 19, 20, 21, 22, 23, 24, 25, 26, 27, 28, 29, ...],\n",
       "           metric=&#x27;ndcg&#x27;, objective=&#x27;lambdarank&#x27;)</pre><b>In a Jupyter environment, please rerun this cell to show the HTML representation or trust the notebook. <br />On GitHub, the HTML representation is unable to render, please try loading this page with nbviewer.org.</b></div><div class=\"sk-container\" hidden><div class=\"sk-item\"><div class=\"sk-estimator sk-toggleable\"><input class=\"sk-toggleable__control sk-hidden--visually\" id=\"sk-estimator-id-1\" type=\"checkbox\" checked><label for=\"sk-estimator-id-1\" class=\"sk-toggleable__label sk-toggleable__label-arrow\">LGBMRanker</label><div class=\"sk-toggleable__content\"><pre>LGBMRanker(label_gain=[0, 1, 2, 3, 4, 5, 6, 7, 8, 9, 10, 11, 12, 13, 14, 15, 16,\n",
       "                       17, 18, 19, 20, 21, 22, 23, 24, 25, 26, 27, 28, 29, ...],\n",
       "           metric=&#x27;ndcg&#x27;, objective=&#x27;lambdarank&#x27;)</pre></div></div></div></div></div>"
      ],
      "text/plain": [
       "LGBMRanker(label_gain=[0, 1, 2, 3, 4, 5, 6, 7, 8, 9, 10, 11, 12, 13, 14, 15, 16,\n",
       "                       17, 18, 19, 20, 21, 22, 23, 24, 25, 26, 27, 28, 29, ...],\n",
       "           metric='ndcg', objective='lambdarank')"
      ]
     },
     "execution_count": 13,
     "metadata": {},
     "output_type": "execute_result"
    }
   ],
   "source": [
    "model = lgb.LGBMRanker(\n",
    "    objective=\"lambdarank\",\n",
    "    metric=\"ndcg\",\n",
    "    label_gain = [i for i in range(max(y_train.max(), y_validation.max()) + 1)]\n",
    ")\n",
    "\n",
    "model.fit(\n",
    "    X=X_train,\n",
    "    y=y_train,\n",
    "    group=q_train,\n",
    "    eval_set=[(X_validation, y_validation)],\n",
    "    eval_group=[q_validation],\n",
    "    eval_at=10,\n",
    ")"
   ]
  },
  {
   "cell_type": "markdown",
   "id": "0d2568e0",
   "metadata": {
    "papermill": {
     "duration": 0.007212,
     "end_time": "2024-02-23T21:30:02.065440",
     "exception": false,
     "start_time": "2024-02-23T21:30:02.058228",
     "status": "completed"
    },
    "tags": []
   },
   "source": [
    "The model got n_races*n_years race rankings based on a subset of all the riders in the dataset. I think it learns a ranking method by using these n_races*n_years examples. I think for prediction, I have to give it a set of riders (get the starting list from procyclingstats) and then it will rank them, regardless of the race it is. So no real querying?"
   ]
  },
  {
   "cell_type": "code",
   "execution_count": 14,
   "id": "73ee0c61",
   "metadata": {
    "execution": {
     "iopub.execute_input": "2024-02-23T21:30:02.083965Z",
     "iopub.status.busy": "2024-02-23T21:30:02.083015Z",
     "iopub.status.idle": "2024-02-23T21:30:02.102200Z",
     "shell.execute_reply": "2024-02-23T21:30:02.100804Z"
    },
    "papermill": {
     "duration": 0.031506,
     "end_time": "2024-02-23T21:30:02.105034",
     "exception": false,
     "start_time": "2024-02-23T21:30:02.073528",
     "status": "completed"
    },
    "tags": []
   },
   "outputs": [
    {
     "name": "stdout",
     "output_type": "stream",
     "text": [
      "1.0626263396483973\n"
     ]
    }
   ],
   "source": [
    "def ndcg(labels, predictions):\n",
    "    # Calculate Normalized Discounted Cumulative Gain (NDCG)\n",
    "    labels = np.asarray(labels)\n",
    "    predictions = np.asarray(predictions)\n",
    "    sorted_labels = labels[np.argsort(predictions)[::-1]]\n",
    "    \n",
    "    # Calculate the Discounted Cumulative Gain (DCG)\n",
    "    dcg = np.sum((2 ** sorted_labels - 1) / np.log2(np.arange(2, len(labels) + 2)))\n",
    "    # Sort the labels in descending order to calculate the ideal DCG\n",
    "    ideal_labels = np.sort(labels)[::-1]\n",
    "    ideal_dcg = np.sum((2 ** ideal_labels - 1) / np.log2(np.arange(2, len(labels) + 2)))\n",
    "    \n",
    "    # Calculate NDCG by normalizing DCG by the ideal DCG\n",
    "    ndcg = dcg / ideal_dcg if ideal_dcg != 0 else 0\n",
    "    return ndcg\n",
    "\n",
    "pred_validation = model.predict(X_validation, raw_score=False)\n",
    "print(ndcg(y_validation, pred_validation))\n",
    "#for label, prediction in zip(y_validation, pred_validation):\n",
    "    #print(f\"Label {label}: {prediction}\")"
   ]
  },
  {
   "cell_type": "code",
   "execution_count": null,
   "id": "5b718938",
   "metadata": {
    "papermill": {
     "duration": 0.007204,
     "end_time": "2024-02-23T21:30:02.120464",
     "exception": false,
     "start_time": "2024-02-23T21:30:02.113260",
     "status": "completed"
    },
    "tags": []
   },
   "outputs": [],
   "source": []
  }
 ],
 "metadata": {
  "kaggle": {
   "accelerator": "none",
   "dataSources": [
    {
     "datasetId": 4460489,
     "sourceId": 7651309,
     "sourceType": "datasetVersion"
    }
   ],
   "dockerImageVersionId": 30646,
   "isGpuEnabled": false,
   "isInternetEnabled": true,
   "language": "python",
   "sourceType": "notebook"
  },
  "kernelspec": {
   "display_name": "Python 3",
   "language": "python",
   "name": "python3"
  },
  "language_info": {
   "codemirror_mode": {
    "name": "ipython",
    "version": 3
   },
   "file_extension": ".py",
   "mimetype": "text/x-python",
   "name": "python",
   "nbconvert_exporter": "python",
   "pygments_lexer": "ipython3",
   "version": "3.10.13"
  },
  "papermill": {
   "default_parameters": {},
   "duration": 165.97481,
   "end_time": "2024-02-23T21:30:03.354331",
   "environment_variables": {},
   "exception": null,
   "input_path": "__notebook__.ipynb",
   "output_path": "__notebook__.ipynb",
   "parameters": {},
   "start_time": "2024-02-23T21:27:17.379521",
   "version": "2.5.0"
  }
 },
 "nbformat": 4,
 "nbformat_minor": 5
}
