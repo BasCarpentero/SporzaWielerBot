{
 "cells": [
  {
   "cell_type": "code",
   "execution_count": 1,
   "id": "dadaf5f9",
   "metadata": {
    "execution": {
     "iopub.execute_input": "2024-02-21T21:27:47.450983Z",
     "iopub.status.busy": "2024-02-21T21:27:47.449977Z",
     "iopub.status.idle": "2024-02-21T21:28:02.841629Z",
     "shell.execute_reply": "2024-02-21T21:28:02.840650Z"
    },
    "papermill": {
     "duration": 15.399891,
     "end_time": "2024-02-21T21:28:02.843974",
     "exception": false,
     "start_time": "2024-02-21T21:27:47.444083",
     "status": "completed"
    },
    "tags": []
   },
   "outputs": [
    {
     "name": "stdout",
     "output_type": "stream",
     "text": [
      "Collecting selenium\r\n",
      "  Downloading selenium-4.18.1-py3-none-any.whl.metadata (6.9 kB)\r\n",
      "Requirement already satisfied: urllib3<3,>=1.26 in /opt/conda/lib/python3.10/site-packages (from urllib3[socks]<3,>=1.26->selenium) (1.26.18)\r\n",
      "Collecting trio~=0.17 (from selenium)\r\n",
      "  Downloading trio-0.24.0-py3-none-any.whl.metadata (4.9 kB)\r\n",
      "Collecting trio-websocket~=0.9 (from selenium)\r\n",
      "  Downloading trio_websocket-0.11.1-py3-none-any.whl.metadata (4.7 kB)\r\n",
      "Requirement already satisfied: certifi>=2021.10.8 in /opt/conda/lib/python3.10/site-packages (from selenium) (2023.11.17)\r\n",
      "Requirement already satisfied: typing_extensions>=4.9.0 in /opt/conda/lib/python3.10/site-packages (from selenium) (4.9.0)\r\n",
      "Requirement already satisfied: attrs>=20.1.0 in /opt/conda/lib/python3.10/site-packages (from trio~=0.17->selenium) (23.2.0)\r\n",
      "Requirement already satisfied: sortedcontainers in /opt/conda/lib/python3.10/site-packages (from trio~=0.17->selenium) (2.4.0)\r\n",
      "Requirement already satisfied: idna in /opt/conda/lib/python3.10/site-packages (from trio~=0.17->selenium) (3.6)\r\n",
      "Collecting outcome (from trio~=0.17->selenium)\r\n",
      "  Downloading outcome-1.3.0.post0-py2.py3-none-any.whl.metadata (2.6 kB)\r\n",
      "Requirement already satisfied: sniffio>=1.3.0 in /opt/conda/lib/python3.10/site-packages (from trio~=0.17->selenium) (1.3.0)\r\n",
      "Requirement already satisfied: exceptiongroup in /opt/conda/lib/python3.10/site-packages (from trio~=0.17->selenium) (1.2.0)\r\n",
      "Collecting wsproto>=0.14 (from trio-websocket~=0.9->selenium)\r\n",
      "  Downloading wsproto-1.2.0-py3-none-any.whl.metadata (5.6 kB)\r\n",
      "Requirement already satisfied: PySocks!=1.5.7,<2.0,>=1.5.6 in /opt/conda/lib/python3.10/site-packages (from urllib3[socks]<3,>=1.26->selenium) (1.7.1)\r\n",
      "Requirement already satisfied: h11<1,>=0.9.0 in /opt/conda/lib/python3.10/site-packages (from wsproto>=0.14->trio-websocket~=0.9->selenium) (0.14.0)\r\n",
      "Downloading selenium-4.18.1-py3-none-any.whl (10.0 MB)\r\n",
      "\u001b[2K   \u001b[90m━━━━━━━━━━━━━━━━━━━━━━━━━━━━━━━━━━━━━━━━\u001b[0m \u001b[32m10.0/10.0 MB\u001b[0m \u001b[31m51.5 MB/s\u001b[0m eta \u001b[36m0:00:00\u001b[0m\r\n",
      "\u001b[?25hDownloading trio-0.24.0-py3-none-any.whl (460 kB)\r\n",
      "\u001b[2K   \u001b[90m━━━━━━━━━━━━━━━━━━━━━━━━━━━━━━━━━━━━━━━━\u001b[0m \u001b[32m460.2/460.2 kB\u001b[0m \u001b[31m25.4 MB/s\u001b[0m eta \u001b[36m0:00:00\u001b[0m\r\n",
      "\u001b[?25hDownloading trio_websocket-0.11.1-py3-none-any.whl (17 kB)\r\n",
      "Downloading wsproto-1.2.0-py3-none-any.whl (24 kB)\r\n",
      "Downloading outcome-1.3.0.post0-py2.py3-none-any.whl (10 kB)\r\n",
      "Installing collected packages: wsproto, outcome, trio, trio-websocket, selenium\r\n",
      "Successfully installed outcome-1.3.0.post0 selenium-4.18.1 trio-0.24.0 trio-websocket-0.11.1 wsproto-1.2.0\r\n"
     ]
    }
   ],
   "source": [
    "!pip install selenium"
   ]
  },
  {
   "cell_type": "code",
   "execution_count": 2,
   "id": "362006bd",
   "metadata": {
    "execution": {
     "iopub.execute_input": "2024-02-21T21:28:02.856110Z",
     "iopub.status.busy": "2024-02-21T21:28:02.855738Z",
     "iopub.status.idle": "2024-02-21T21:28:03.851999Z",
     "shell.execute_reply": "2024-02-21T21:28:03.851075Z"
    },
    "papermill": {
     "duration": 1.005631,
     "end_time": "2024-02-21T21:28:03.854959",
     "exception": false,
     "start_time": "2024-02-21T21:28:02.849328",
     "status": "completed"
    },
    "tags": []
   },
   "outputs": [],
   "source": [
    "#from selenium import webdriver\n",
    "#from selenium.webdriver.chrome.service import Service\n",
    "from bs4 import BeautifulSoup\n",
    "import pandas as pd\n",
    "import requests\n",
    "import re"
   ]
  },
  {
   "cell_type": "code",
   "execution_count": 3,
   "id": "137e98ff",
   "metadata": {
    "execution": {
     "iopub.execute_input": "2024-02-21T21:28:03.866238Z",
     "iopub.status.busy": "2024-02-21T21:28:03.865768Z",
     "iopub.status.idle": "2024-02-21T21:28:03.870782Z",
     "shell.execute_reply": "2024-02-21T21:28:03.869941Z"
    },
    "papermill": {
     "duration": 0.012755,
     "end_time": "2024-02-21T21:28:03.872664",
     "exception": false,
     "start_time": "2024-02-21T21:28:03.859909",
     "status": "completed"
    },
    "tags": []
   },
   "outputs": [],
   "source": [
    "sporza_races = [\n",
    "    \"omloop-het-nieuwsblad\",\n",
    "    \"kuurne-brussel-kuurne\",\n",
    "    \"gp-samyn\",\n",
    "    \"strade-bianche\",\n",
    "    \"nokere-koers\",\n",
    "    \"bredene-koksijde-classic\",\n",
    "    \"milano-sanremo\",\n",
    "    \"oxyclean-classic-brugge-de-panne\",\n",
    "    \"e3-harelbeke\",\n",
    "    \"gent-wevelgem\",\n",
    "    \"dwars-door-vlaanderen\",\n",
    "    \"ronde-van-vlaanderen\",\n",
    "    \"scheldeprijs\",\n",
    "    \"paris-roubaix\",\n",
    "    \"brabantse-pijl\",\n",
    "    \"amstel-gold-race\",\n",
    "    \"la-fleche-wallone\",\n",
    "    \"liege-bastogne-liege\"\n",
    "]"
   ]
  },
  {
   "cell_type": "markdown",
   "id": "39a3936c",
   "metadata": {
    "papermill": {
     "duration": 0.004667,
     "end_time": "2024-02-21T21:28:03.882159",
     "exception": false,
     "start_time": "2024-02-21T21:28:03.877492",
     "status": "completed"
    },
    "tags": []
   },
   "source": [
    "Let's get the top x riders from https://www.procyclingstats.com/rankings.php and create a dictionary to store their respective names (as the procyclingstats identifier of the form first_name-family_name), teams and PCS points."
   ]
  },
  {
   "cell_type": "code",
   "execution_count": 4,
   "id": "64ea843e",
   "metadata": {
    "execution": {
     "iopub.execute_input": "2024-02-21T21:28:03.893255Z",
     "iopub.status.busy": "2024-02-21T21:28:03.892671Z",
     "iopub.status.idle": "2024-02-21T21:28:03.899351Z",
     "shell.execute_reply": "2024-02-21T21:28:03.898689Z"
    },
    "papermill": {
     "duration": 0.014291,
     "end_time": "2024-02-21T21:28:03.901144",
     "exception": false,
     "start_time": "2024-02-21T21:28:03.886853",
     "status": "completed"
    },
    "tags": []
   },
   "outputs": [],
   "source": [
    "def get_riders_teams_PCSpoints(n_riders, rider_data):\n",
    "    for i in range (n_riders//100):\n",
    "        PCS_ranking_url = f\"\"\"https://www.procyclingstats.com/rankings.php?\n",
    "                          nation=&age=&zage=&page=smallerorequal&team=&offset={100*i}\n",
    "                          &teamlevel=&filter=Filter\"\"\"\n",
    "        response = requests.get(PCS_ranking_url)\n",
    "        soup = BeautifulSoup(response.content, \"html.parser\")\n",
    "        ranking_table = soup.find(\"table\", class_=\"basic\")\n",
    "        for row in ranking_table.find_all(\"tr\")[1:]:\n",
    "            links = row.find_all(\"a\", href=True)\n",
    "            rider = links[0].get(\"href\").split(\"/\")[-1]\n",
    "            team = links[1].get(\"href\").split(\"/\")[-1]\n",
    "            points = links[2].text        \n",
    "            rider_data[rider] = {\"Team\": team, \"PCSpoints\": points}"
   ]
  },
  {
   "cell_type": "markdown",
   "id": "c688cd6f",
   "metadata": {
    "papermill": {
     "duration": 0.00445,
     "end_time": "2024-02-21T21:28:03.910593",
     "exception": false,
     "start_time": "2024-02-21T21:28:03.906143",
     "status": "completed"
    },
    "tags": []
   },
   "source": [
    "Let's use the rider identifiers to retrieve their age and weight."
   ]
  },
  {
   "cell_type": "code",
   "execution_count": 5,
   "id": "73abc434",
   "metadata": {
    "execution": {
     "iopub.execute_input": "2024-02-21T21:28:03.921527Z",
     "iopub.status.busy": "2024-02-21T21:28:03.920943Z",
     "iopub.status.idle": "2024-02-21T21:28:03.926949Z",
     "shell.execute_reply": "2024-02-21T21:28:03.926077Z"
    },
    "papermill": {
     "duration": 0.013738,
     "end_time": "2024-02-21T21:28:03.928969",
     "exception": false,
     "start_time": "2024-02-21T21:28:03.915231",
     "status": "completed"
    },
    "tags": []
   },
   "outputs": [],
   "source": [
    "def get_age_weight(rider_data):\n",
    "    for rider in rider_data.keys():\n",
    "        rider_profile_url = f\"https://www.procyclingstats.com/rider/{rider}\"\n",
    "        response = requests.get(rider_profile_url)\n",
    "        soup = BeautifulSoup(response.content, \"html.parser\")\n",
    "        info = soup.find(\"div\", class_ =\"rdr-info-cont\")\n",
    "        fields = info.find_all(\"b\")    \n",
    "        rider_data[rider][\"age\"] = re.search(r'\\((.*?)\\)', info.text).group(1)\n",
    "        for field in fields:\n",
    "            label = field.get_text(strip=True)\n",
    "            if label not in [\"\", \"Date of birth:\", \"Nationality:\", \"Place of birth:\"]:\n",
    "                value = field.next_sibling.strip()\n",
    "                rider_data[rider][label] = value"
   ]
  },
  {
   "cell_type": "code",
   "execution_count": 6,
   "id": "904b2137",
   "metadata": {
    "execution": {
     "iopub.execute_input": "2024-02-21T21:28:03.939758Z",
     "iopub.status.busy": "2024-02-21T21:28:03.939120Z",
     "iopub.status.idle": "2024-02-21T21:28:03.947413Z",
     "shell.execute_reply": "2024-02-21T21:28:03.946792Z"
    },
    "papermill": {
     "duration": 0.015558,
     "end_time": "2024-02-21T21:28:03.949234",
     "exception": false,
     "start_time": "2024-02-21T21:28:03.933676",
     "status": "completed"
    },
    "tags": []
   },
   "outputs": [],
   "source": [
    "def get_sporza_results(years, rider_data):\n",
    "    for race in sporza_races:\n",
    "        for year in years:\n",
    "            race_name = f\"{race}/{year}\"\n",
    "            race_url = f\"https://www.procyclingstats.com/race/{race_name}/result\"\n",
    "            print(f\"Processing the results of {race_name}\")\n",
    "            try:\n",
    "                response = requests.get(race_url)\n",
    "            except:\n",
    "                print(f\"Page {race_url} didn't respond.\")\n",
    "            soup = BeautifulSoup(response.content, \"html.parser\")\n",
    "            for row in soup.find(\"tbody\").find_all(\"tr\"):\n",
    "                rider = row.find(\"input\", class_=\"gotoH2H\").get(\"data-seo\")\n",
    "                if rider in rider_data.keys():\n",
    "                    fields = row.find_all(\"td\")\n",
    "                    placement = fields[0].get_text(strip=True)\n",
    "                    UCI_points = fields[7].get_text(strip=True)\n",
    "                    ptn = fields[8].get_text(strip=True)\n",
    "\n",
    "                    rider_data[rider][race_name] = placement\n",
    "                    if UCI_points != \"\":\n",
    "                        if \"UCI_points\" in rider_data.get(rider, {}):\n",
    "                            rider_data[rider][\"UCI_points\"] += int(UCI_points)\n",
    "                        else:\n",
    "                             rider_data[rider][f\"UCI_points\"] = int(UCI_points)\n",
    "                    if ptn != \"\":\n",
    "                        if f\"ptn/{year}\" in rider_data.get(rider, {}):\n",
    "                            rider_data[rider][f\"ptn/{year}\"] += int(ptn)\n",
    "                        else:\n",
    "                             rider_data[rider][f\"ptn/{year}\"] = int(ptn)     "
   ]
  },
  {
   "cell_type": "code",
   "execution_count": 7,
   "id": "724173d2",
   "metadata": {
    "execution": {
     "iopub.execute_input": "2024-02-21T21:28:03.960163Z",
     "iopub.status.busy": "2024-02-21T21:28:03.959626Z",
     "iopub.status.idle": "2024-02-21T21:31:26.644129Z",
     "shell.execute_reply": "2024-02-21T21:31:26.643358Z"
    },
    "papermill": {
     "duration": 202.693047,
     "end_time": "2024-02-21T21:31:26.646995",
     "exception": false,
     "start_time": "2024-02-21T21:28:03.953948",
     "status": "completed"
    },
    "tags": []
   },
   "outputs": [
    {
     "name": "stdout",
     "output_type": "stream",
     "text": [
      "Processing the results of omloop-het-nieuwsblad/2019\n",
      "Processing the results of omloop-het-nieuwsblad/2019\n",
      "Processing the results of omloop-het-nieuwsblad/2021\n",
      "Processing the results of omloop-het-nieuwsblad/2022\n",
      "Processing the results of omloop-het-nieuwsblad/2023\n",
      "Processing the results of kuurne-brussel-kuurne/2019\n",
      "Processing the results of kuurne-brussel-kuurne/2019\n",
      "Processing the results of kuurne-brussel-kuurne/2021\n",
      "Processing the results of kuurne-brussel-kuurne/2022\n",
      "Processing the results of kuurne-brussel-kuurne/2023\n",
      "Processing the results of gp-samyn/2019\n",
      "Processing the results of gp-samyn/2019\n",
      "Processing the results of gp-samyn/2021\n",
      "Processing the results of gp-samyn/2022\n",
      "Processing the results of gp-samyn/2023\n",
      "Processing the results of strade-bianche/2019\n",
      "Processing the results of strade-bianche/2019\n",
      "Processing the results of strade-bianche/2021\n",
      "Processing the results of strade-bianche/2022\n",
      "Processing the results of strade-bianche/2023\n",
      "Processing the results of nokere-koers/2019\n",
      "Processing the results of nokere-koers/2019\n",
      "Processing the results of nokere-koers/2021\n",
      "Processing the results of nokere-koers/2022\n",
      "Processing the results of nokere-koers/2023\n",
      "Processing the results of bredene-koksijde-classic/2019\n",
      "Processing the results of bredene-koksijde-classic/2019\n",
      "Processing the results of bredene-koksijde-classic/2021\n",
      "Processing the results of bredene-koksijde-classic/2022\n",
      "Processing the results of bredene-koksijde-classic/2023\n",
      "Processing the results of milano-sanremo/2019\n",
      "Processing the results of milano-sanremo/2019\n",
      "Processing the results of milano-sanremo/2021\n",
      "Processing the results of milano-sanremo/2022\n",
      "Processing the results of milano-sanremo/2023\n",
      "Processing the results of oxyclean-classic-brugge-de-panne/2019\n",
      "Processing the results of oxyclean-classic-brugge-de-panne/2019\n",
      "Processing the results of oxyclean-classic-brugge-de-panne/2021\n",
      "Processing the results of oxyclean-classic-brugge-de-panne/2022\n",
      "Processing the results of oxyclean-classic-brugge-de-panne/2023\n",
      "Processing the results of e3-harelbeke/2019\n",
      "Processing the results of e3-harelbeke/2019\n",
      "Processing the results of e3-harelbeke/2021\n",
      "Processing the results of e3-harelbeke/2022\n",
      "Processing the results of e3-harelbeke/2023\n",
      "Processing the results of gent-wevelgem/2019\n",
      "Processing the results of gent-wevelgem/2019\n",
      "Processing the results of gent-wevelgem/2021\n",
      "Processing the results of gent-wevelgem/2022\n",
      "Processing the results of gent-wevelgem/2023\n",
      "Processing the results of dwars-door-vlaanderen/2019\n",
      "Processing the results of dwars-door-vlaanderen/2019\n",
      "Processing the results of dwars-door-vlaanderen/2021\n",
      "Processing the results of dwars-door-vlaanderen/2022\n",
      "Processing the results of dwars-door-vlaanderen/2023\n",
      "Processing the results of ronde-van-vlaanderen/2019\n",
      "Processing the results of ronde-van-vlaanderen/2019\n",
      "Processing the results of ronde-van-vlaanderen/2021\n",
      "Processing the results of ronde-van-vlaanderen/2022\n",
      "Processing the results of ronde-van-vlaanderen/2023\n",
      "Processing the results of scheldeprijs/2019\n",
      "Processing the results of scheldeprijs/2019\n",
      "Processing the results of scheldeprijs/2021\n",
      "Processing the results of scheldeprijs/2022\n",
      "Processing the results of scheldeprijs/2023\n",
      "Processing the results of paris-roubaix/2019\n",
      "Processing the results of paris-roubaix/2019\n",
      "Processing the results of paris-roubaix/2021\n",
      "Processing the results of paris-roubaix/2022\n",
      "Processing the results of paris-roubaix/2023\n",
      "Processing the results of brabantse-pijl/2019\n",
      "Processing the results of brabantse-pijl/2019\n",
      "Processing the results of brabantse-pijl/2021\n",
      "Processing the results of brabantse-pijl/2022\n",
      "Processing the results of brabantse-pijl/2023\n",
      "Processing the results of amstel-gold-race/2019\n",
      "Processing the results of amstel-gold-race/2019\n",
      "Processing the results of amstel-gold-race/2021\n",
      "Processing the results of amstel-gold-race/2022\n",
      "Processing the results of amstel-gold-race/2023\n",
      "Processing the results of la-fleche-wallone/2019\n",
      "Processing the results of la-fleche-wallone/2019\n",
      "Processing the results of la-fleche-wallone/2021\n",
      "Processing the results of la-fleche-wallone/2022\n",
      "Processing the results of la-fleche-wallone/2023\n",
      "Processing the results of liege-bastogne-liege/2019\n",
      "Processing the results of liege-bastogne-liege/2019\n",
      "Processing the results of liege-bastogne-liege/2021\n",
      "Processing the results of liege-bastogne-liege/2022\n",
      "Processing the results of liege-bastogne-liege/2023\n"
     ]
    }
   ],
   "source": [
    "n_riders = 100\n",
    "years = [2019, 2019, 2021, 2022, 2023]\n",
    "rider_data = {}\n",
    "get_riders_teams_PCSpoints(n_riders, rider_data)\n",
    "get_age_weight(rider_data)\n",
    "get_sporza_results(years, rider_data)"
   ]
  },
  {
   "cell_type": "code",
   "execution_count": 8,
   "id": "94e7057e",
   "metadata": {
    "execution": {
     "iopub.execute_input": "2024-02-21T21:31:26.676836Z",
     "iopub.status.busy": "2024-02-21T21:31:26.676354Z",
     "iopub.status.idle": "2024-02-21T21:31:26.805213Z",
     "shell.execute_reply": "2024-02-21T21:31:26.804114Z"
    },
    "papermill": {
     "duration": 0.143937,
     "end_time": "2024-02-21T21:31:26.807807",
     "exception": false,
     "start_time": "2024-02-21T21:31:26.663870",
     "status": "completed"
    },
    "tags": []
   },
   "outputs": [
    {
     "data": {
      "text/html": [
       "<div>\n",
       "<style scoped>\n",
       "    .dataframe tbody tr th:only-of-type {\n",
       "        vertical-align: middle;\n",
       "    }\n",
       "\n",
       "    .dataframe tbody tr th {\n",
       "        vertical-align: top;\n",
       "    }\n",
       "\n",
       "    .dataframe thead th {\n",
       "        text-align: right;\n",
       "    }\n",
       "</style>\n",
       "<table border=\"1\" class=\"dataframe\">\n",
       "  <thead>\n",
       "    <tr style=\"text-align: right;\">\n",
       "      <th></th>\n",
       "      <th>Team</th>\n",
       "      <th>PCSpoints</th>\n",
       "      <th>age</th>\n",
       "      <th>Weight:</th>\n",
       "      <th>Height:</th>\n",
       "      <th>nokere-koers/2019</th>\n",
       "      <th>bredene-koksijde-classic/2019</th>\n",
       "      <th>brabantse-pijl/2022</th>\n",
       "      <th>UCI_points</th>\n",
       "      <th>ptn/2022</th>\n",
       "      <th>...</th>\n",
       "      <th>brabantse-pijl/2023</th>\n",
       "      <th>oxyclean-classic-brugge-de-panne/2022</th>\n",
       "      <th>kuurne-brussel-kuurne/2022</th>\n",
       "      <th>gp-samyn/2022</th>\n",
       "      <th>nokere-koers/2022</th>\n",
       "      <th>bredene-koksijde-classic/2022</th>\n",
       "      <th>gp-samyn/2019</th>\n",
       "      <th>gp-samyn/2023</th>\n",
       "      <th>nokere-koers/2023</th>\n",
       "      <th>bredene-koksijde-classic/2023</th>\n",
       "    </tr>\n",
       "  </thead>\n",
       "  <tbody>\n",
       "    <tr>\n",
       "      <th>count</th>\n",
       "      <td>100</td>\n",
       "      <td>100</td>\n",
       "      <td>100</td>\n",
       "      <td>100</td>\n",
       "      <td>100</td>\n",
       "      <td>5</td>\n",
       "      <td>3</td>\n",
       "      <td>17</td>\n",
       "      <td>90</td>\n",
       "      <td>75</td>\n",
       "      <td>...</td>\n",
       "      <td>16</td>\n",
       "      <td>15</td>\n",
       "      <td>23</td>\n",
       "      <td>9</td>\n",
       "      <td>9</td>\n",
       "      <td>6</td>\n",
       "      <td>1</td>\n",
       "      <td>5</td>\n",
       "      <td>8</td>\n",
       "      <td>5</td>\n",
       "    </tr>\n",
       "    <tr>\n",
       "      <th>unique</th>\n",
       "      <td>23</td>\n",
       "      <td>94</td>\n",
       "      <td>18</td>\n",
       "      <td>31</td>\n",
       "      <td>26</td>\n",
       "      <td>4</td>\n",
       "      <td>3</td>\n",
       "      <td>13</td>\n",
       "      <td>88</td>\n",
       "      <td>58</td>\n",
       "      <td>...</td>\n",
       "      <td>15</td>\n",
       "      <td>15</td>\n",
       "      <td>21</td>\n",
       "      <td>9</td>\n",
       "      <td>9</td>\n",
       "      <td>6</td>\n",
       "      <td>1</td>\n",
       "      <td>5</td>\n",
       "      <td>8</td>\n",
       "      <td>5</td>\n",
       "    </tr>\n",
       "    <tr>\n",
       "      <th>top</th>\n",
       "      <td>uae-team-emirates-2024</td>\n",
       "      <td>803</td>\n",
       "      <td>25</td>\n",
       "      <td>65 kg</td>\n",
       "      <td>1.83 m</td>\n",
       "      <td>DNF</td>\n",
       "      <td>46</td>\n",
       "      <td>DNF</td>\n",
       "      <td>5</td>\n",
       "      <td>5</td>\n",
       "      <td>...</td>\n",
       "      <td>DNF</td>\n",
       "      <td>5</td>\n",
       "      <td>DNF</td>\n",
       "      <td>10</td>\n",
       "      <td>3</td>\n",
       "      <td>9</td>\n",
       "      <td>DNF</td>\n",
       "      <td>58</td>\n",
       "      <td>101</td>\n",
       "      <td>1</td>\n",
       "    </tr>\n",
       "    <tr>\n",
       "      <th>freq</th>\n",
       "      <td>11</td>\n",
       "      <td>2</td>\n",
       "      <td>12</td>\n",
       "      <td>10</td>\n",
       "      <td>9</td>\n",
       "      <td>2</td>\n",
       "      <td>1</td>\n",
       "      <td>5</td>\n",
       "      <td>3</td>\n",
       "      <td>9</td>\n",
       "      <td>...</td>\n",
       "      <td>2</td>\n",
       "      <td>1</td>\n",
       "      <td>3</td>\n",
       "      <td>1</td>\n",
       "      <td>1</td>\n",
       "      <td>1</td>\n",
       "      <td>1</td>\n",
       "      <td>1</td>\n",
       "      <td>1</td>\n",
       "      <td>1</td>\n",
       "    </tr>\n",
       "  </tbody>\n",
       "</table>\n",
       "<p>4 rows × 82 columns</p>\n",
       "</div>"
      ],
      "text/plain": [
       "                          Team PCSpoints  age Weight: Height:  \\\n",
       "count                      100       100  100     100     100   \n",
       "unique                      23        94   18      31      26   \n",
       "top     uae-team-emirates-2024       803   25   65 kg  1.83 m   \n",
       "freq                        11         2   12      10       9   \n",
       "\n",
       "       nokere-koers/2019 bredene-koksijde-classic/2019 brabantse-pijl/2022  \\\n",
       "count                  5                             3                  17   \n",
       "unique                 4                             3                  13   \n",
       "top                  DNF                            46                 DNF   \n",
       "freq                   2                             1                   5   \n",
       "\n",
       "        UCI_points  ptn/2022  ... brabantse-pijl/2023  \\\n",
       "count           90        75  ...                  16   \n",
       "unique          88        58  ...                  15   \n",
       "top              5         5  ...                 DNF   \n",
       "freq             3         9  ...                   2   \n",
       "\n",
       "       oxyclean-classic-brugge-de-panne/2022 kuurne-brussel-kuurne/2022  \\\n",
       "count                                     15                         23   \n",
       "unique                                    15                         21   \n",
       "top                                        5                        DNF   \n",
       "freq                                       1                          3   \n",
       "\n",
       "        gp-samyn/2022 nokere-koers/2022  bredene-koksijde-classic/2022  \\\n",
       "count               9                 9                              6   \n",
       "unique              9                 9                              6   \n",
       "top                10                 3                              9   \n",
       "freq                1                 1                              1   \n",
       "\n",
       "       gp-samyn/2019  gp-samyn/2023 nokere-koers/2023  \\\n",
       "count              1              5                 8   \n",
       "unique             1              5                 8   \n",
       "top              DNF             58               101   \n",
       "freq               1              1                 1   \n",
       "\n",
       "       bredene-koksijde-classic/2023  \n",
       "count                              5  \n",
       "unique                             5  \n",
       "top                                1  \n",
       "freq                               1  \n",
       "\n",
       "[4 rows x 82 columns]"
      ]
     },
     "execution_count": 8,
     "metadata": {},
     "output_type": "execute_result"
    }
   ],
   "source": [
    "rider_data = pd.DataFrame(rider_data).T\n",
    "rider_data.describe()"
   ]
  },
  {
   "cell_type": "code",
   "execution_count": 9,
   "id": "b9832c5e",
   "metadata": {
    "execution": {
     "iopub.execute_input": "2024-02-21T21:31:26.844479Z",
     "iopub.status.busy": "2024-02-21T21:31:26.843487Z",
     "iopub.status.idle": "2024-02-21T21:31:26.853257Z",
     "shell.execute_reply": "2024-02-21T21:31:26.852272Z"
    },
    "papermill": {
     "duration": 0.03086,
     "end_time": "2024-02-21T21:31:26.855897",
     "exception": false,
     "start_time": "2024-02-21T21:31:26.825037",
     "status": "completed"
    },
    "tags": []
   },
   "outputs": [
    {
     "data": {
      "text/plain": [
       "5"
      ]
     },
     "execution_count": 9,
     "metadata": {},
     "output_type": "execute_result"
    }
   ],
   "source": [
    "len(rider_data.isnull().sum()[rider_data.isnull().sum() == 0])"
   ]
  },
  {
   "cell_type": "code",
   "execution_count": 10,
   "id": "16249f2e",
   "metadata": {
    "execution": {
     "iopub.execute_input": "2024-02-21T21:31:26.893105Z",
     "iopub.status.busy": "2024-02-21T21:31:26.892307Z",
     "iopub.status.idle": "2024-02-21T21:31:26.902163Z",
     "shell.execute_reply": "2024-02-21T21:31:26.901291Z"
    },
    "papermill": {
     "duration": 0.030799,
     "end_time": "2024-02-21T21:31:26.904112",
     "exception": false,
     "start_time": "2024-02-21T21:31:26.873313",
     "status": "completed"
    },
    "tags": []
   },
   "outputs": [
    {
     "data": {
      "text/plain": [
       "Team                              0\n",
       "PCSpoints                         0\n",
       "age                               0\n",
       "Weight:                           0\n",
       "Height:                           0\n",
       "                                 ..\n",
       "bredene-koksijde-classic/2022    94\n",
       "gp-samyn/2019                    99\n",
       "gp-samyn/2023                    95\n",
       "nokere-koers/2023                92\n",
       "bredene-koksijde-classic/2023    95\n",
       "Length: 82, dtype: int64"
      ]
     },
     "execution_count": 10,
     "metadata": {},
     "output_type": "execute_result"
    }
   ],
   "source": [
    "rider_data.isna().sum()"
   ]
  }
 ],
 "metadata": {
  "kaggle": {
   "accelerator": "none",
   "dataSources": [
    {
     "datasetId": 4460489,
     "sourceId": 7651309,
     "sourceType": "datasetVersion"
    }
   ],
   "dockerImageVersionId": 30646,
   "isGpuEnabled": false,
   "isInternetEnabled": true,
   "language": "python",
   "sourceType": "notebook"
  },
  "kernelspec": {
   "display_name": "Python 3",
   "language": "python",
   "name": "python3"
  },
  "language_info": {
   "codemirror_mode": {
    "name": "ipython",
    "version": 3
   },
   "file_extension": ".py",
   "mimetype": "text/x-python",
   "name": "python",
   "nbconvert_exporter": "python",
   "pygments_lexer": "ipython3",
   "version": "3.10.13"
  },
  "papermill": {
   "default_parameters": {},
   "duration": 222.622474,
   "end_time": "2024-02-21T21:31:27.434957",
   "environment_variables": {},
   "exception": null,
   "input_path": "__notebook__.ipynb",
   "output_path": "__notebook__.ipynb",
   "parameters": {},
   "start_time": "2024-02-21T21:27:44.812483",
   "version": "2.5.0"
  }
 },
 "nbformat": 4,
 "nbformat_minor": 5
}
