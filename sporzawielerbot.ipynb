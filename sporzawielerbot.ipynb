{
 "cells": [
  {
   "cell_type": "code",
   "execution_count": 1,
   "id": "10629538",
   "metadata": {
    "execution": {
     "iopub.execute_input": "2024-02-21T12:56:22.057891Z",
     "iopub.status.busy": "2024-02-21T12:56:22.056587Z",
     "iopub.status.idle": "2024-02-21T12:56:23.401926Z",
     "shell.execute_reply": "2024-02-21T12:56:23.400557Z"
    },
    "papermill": {
     "duration": 1.354451,
     "end_time": "2024-02-21T12:56:23.405319",
     "exception": false,
     "start_time": "2024-02-21T12:56:22.050868",
     "status": "completed"
    },
    "tags": []
   },
   "outputs": [],
   "source": [
    "from bs4 import BeautifulSoup\n",
    "import pandas as pd\n",
    "import requests"
   ]
  },
  {
   "cell_type": "code",
   "execution_count": 2,
   "id": "d9ec1907",
   "metadata": {
    "execution": {
     "iopub.execute_input": "2024-02-21T12:56:23.415633Z",
     "iopub.status.busy": "2024-02-21T12:56:23.413817Z",
     "iopub.status.idle": "2024-02-21T12:56:23.421643Z",
     "shell.execute_reply": "2024-02-21T12:56:23.420642Z"
    },
    "papermill": {
     "duration": 0.015664,
     "end_time": "2024-02-21T12:56:23.424347",
     "exception": false,
     "start_time": "2024-02-21T12:56:23.408683",
     "status": "completed"
    },
    "tags": []
   },
   "outputs": [],
   "source": [
    "sporza_races = [\n",
    "    \"omloop-het-nieuwsblad\",\n",
    "    \"kuurne-brussel-kuurne\",\n",
    "    \"gp-samyn\",\n",
    "    \"strade-bianche\",\n",
    "    \"nokere-koers\",\n",
    "    \"bredene-koksijde-classic\",\n",
    "    \"milano-sanremo\",\n",
    "    \"oxyclean-classic-brugge-de-panne\",\n",
    "    \"e3-harelbeke\",\n",
    "    \"gent-wevelgem\",\n",
    "    \"dwars-door-vlaanderen\",\n",
    "    \"ronde-van-vlaanderen\",\n",
    "    \"scheldeprijs\",\n",
    "    \"paris-roubaix\",\n",
    "    \"brabantse-pijl\",\n",
    "    \"amstel-gold-race\",\n",
    "    \"la-fleche-wallone\",\n",
    "    \"liege-bastogne-liege\"\n",
    "]"
   ]
  },
  {
   "cell_type": "markdown",
   "id": "e47d3020",
   "metadata": {
    "papermill": {
     "duration": 0.002676,
     "end_time": "2024-02-21T12:56:23.430201",
     "exception": false,
     "start_time": "2024-02-21T12:56:23.427525",
     "status": "completed"
    },
    "tags": []
   },
   "source": [
    "The get_race_info function takes a procyclingstats.com race url and scrapes all the info from that specific race. The result is presented in a Pandas dataframe."
   ]
  },
  {
   "cell_type": "code",
   "execution_count": 3,
   "id": "81cf94c5",
   "metadata": {
    "execution": {
     "iopub.execute_input": "2024-02-21T12:56:23.438816Z",
     "iopub.status.busy": "2024-02-21T12:56:23.438338Z",
     "iopub.status.idle": "2024-02-21T12:56:23.447342Z",
     "shell.execute_reply": "2024-02-21T12:56:23.445938Z"
    },
    "papermill": {
     "duration": 0.016899,
     "end_time": "2024-02-21T12:56:23.450029",
     "exception": false,
     "start_time": "2024-02-21T12:56:23.433130",
     "status": "completed"
    },
    "tags": []
   },
   "outputs": [],
   "source": [
    "def get_race_info(race_url):\n",
    "    response = requests.get(race_url)\n",
    "    soup = BeautifulSoup(response.content, \"html.parser\")\n",
    "    race_info = soup.find_all('ul', class_='infolist')\n",
    "    # Extract information from each ul element\n",
    "    for ul_element in race_info:\n",
    "        # Extract information from each <li> element\n",
    "        info = {}\n",
    "        for li_element in ul_element.find_all('li'):\n",
    "            label = li_element.find('div').text.strip()[:-1]\n",
    "            value = li_element.find_all('div')[1].text.strip()\n",
    "            info[label] = value\n",
    "\n",
    "    df = pd.DataFrame([info])\n",
    "    return df"
   ]
  },
  {
   "cell_type": "code",
   "execution_count": 4,
   "id": "4817e203",
   "metadata": {
    "execution": {
     "iopub.execute_input": "2024-02-21T12:56:23.458905Z",
     "iopub.status.busy": "2024-02-21T12:56:23.457828Z",
     "iopub.status.idle": "2024-02-21T12:57:55.490579Z",
     "shell.execute_reply": "2024-02-21T12:57:55.489440Z"
    },
    "papermill": {
     "duration": 92.040882,
     "end_time": "2024-02-21T12:57:55.494054",
     "exception": false,
     "start_time": "2024-02-21T12:56:23.453172",
     "status": "completed"
    },
    "tags": []
   },
   "outputs": [],
   "source": [
    "race_data = pd.DataFrame()\n",
    "n_years = 5\n",
    "for race in sporza_races:\n",
    "    for i in range(n_years):\n",
    "        pro_cycling_url = f\"https://www.procyclingstats.com/race/{race}/{2023-i}/result\"\n",
    "        race_info = get_race_info(pro_cycling_url)\n",
    "        race_info.insert(0, \"Race_name\", race)\n",
    "        race_data = pd.concat([race_info, race_data], ignore_index=True)"
   ]
  }
 ],
 "metadata": {
  "kaggle": {
   "accelerator": "none",
   "dataSources": [
    {
     "datasetId": 4460489,
     "sourceId": 7651309,
     "sourceType": "datasetVersion"
    }
   ],
   "dockerImageVersionId": 30646,
   "isGpuEnabled": false,
   "isInternetEnabled": true,
   "language": "python",
   "sourceType": "notebook"
  },
  "kernelspec": {
   "display_name": "Python 3",
   "language": "python",
   "name": "python3"
  },
  "language_info": {
   "codemirror_mode": {
    "name": "ipython",
    "version": 3
   },
   "file_extension": ".py",
   "mimetype": "text/x-python",
   "name": "python",
   "nbconvert_exporter": "python",
   "pygments_lexer": "ipython3",
   "version": "3.10.13"
  },
  "papermill": {
   "default_parameters": {},
   "duration": 98.234285,
   "end_time": "2024-02-21T12:57:56.423394",
   "environment_variables": {},
   "exception": null,
   "input_path": "__notebook__.ipynb",
   "output_path": "__notebook__.ipynb",
   "parameters": {},
   "start_time": "2024-02-21T12:56:18.189109",
   "version": "2.5.0"
  }
 },
 "nbformat": 4,
 "nbformat_minor": 5
}
