{
 "cells": [
  {
   "cell_type": "code",
   "execution_count": 1,
   "id": "0a5c0908",
   "metadata": {
    "execution": {
     "iopub.execute_input": "2024-02-22T16:41:33.683429Z",
     "iopub.status.busy": "2024-02-22T16:41:33.683016Z",
     "iopub.status.idle": "2024-02-22T16:41:38.176594Z",
     "shell.execute_reply": "2024-02-22T16:41:38.175363Z"
    },
    "papermill": {
     "duration": 4.506206,
     "end_time": "2024-02-22T16:41:38.179381",
     "exception": false,
     "start_time": "2024-02-22T16:41:33.673175",
     "status": "completed"
    },
    "tags": []
   },
   "outputs": [],
   "source": [
    "#from selenium import webdriver\n",
    "#from selenium.webdriver.chrome.service import Service\n",
    "from sklearn.model_selection import train_test_split\n",
    "from sklearn.preprocessing import OneHotEncoder\n",
    "from bs4 import BeautifulSoup\n",
    "import lightgbm as lgb\n",
    "import pandas as pd\n",
    "import numpy as np\n",
    "import requests\n",
    "import re"
   ]
  },
  {
   "cell_type": "code",
   "execution_count": 2,
   "id": "491fdf82",
   "metadata": {
    "execution": {
     "iopub.execute_input": "2024-02-22T16:41:38.194461Z",
     "iopub.status.busy": "2024-02-22T16:41:38.194043Z",
     "iopub.status.idle": "2024-02-22T16:41:38.200704Z",
     "shell.execute_reply": "2024-02-22T16:41:38.199318Z"
    },
    "papermill": {
     "duration": 0.017091,
     "end_time": "2024-02-22T16:41:38.203294",
     "exception": false,
     "start_time": "2024-02-22T16:41:38.186203",
     "status": "completed"
    },
    "tags": []
   },
   "outputs": [],
   "source": [
    "sporza_races = [\n",
    "    \"omloop-het-nieuwsblad\",\n",
    "    \"kuurne-brussel-kuurne\",\n",
    "    \"gp-samyn\",\n",
    "    \"strade-bianche\",\n",
    "    \"nokere-koers\",\n",
    "    \"bredene-koksijde-classic\",\n",
    "    \"milano-sanremo\",\n",
    "    \"oxyclean-classic-brugge-de-panne\",\n",
    "    \"e3-harelbeke\",\n",
    "    \"gent-wevelgem\",\n",
    "    \"dwars-door-vlaanderen\",\n",
    "    \"ronde-van-vlaanderen\",\n",
    "    \"scheldeprijs\",\n",
    "    \"paris-roubaix\",\n",
    "    \"brabantse-pijl\",\n",
    "    \"amstel-gold-race\",\n",
    "    \"la-fleche-wallone\",\n",
    "    \"liege-bastogne-liege\"\n",
    "]"
   ]
  },
  {
   "cell_type": "markdown",
   "id": "b14fd4e2",
   "metadata": {
    "papermill": {
     "duration": 0.006262,
     "end_time": "2024-02-22T16:41:38.216097",
     "exception": false,
     "start_time": "2024-02-22T16:41:38.209835",
     "status": "completed"
    },
    "tags": []
   },
   "source": [
    "Let's get the top x riders from https://www.procyclingstats.com/rankings.php and create a dictionary to store their respective names (as the procyclingstats identifier of the form first_name-family_name), teams and PCS points."
   ]
  },
  {
   "cell_type": "code",
   "execution_count": 3,
   "id": "ee96ca0a",
   "metadata": {
    "execution": {
     "iopub.execute_input": "2024-02-22T16:41:38.231027Z",
     "iopub.status.busy": "2024-02-22T16:41:38.230606Z",
     "iopub.status.idle": "2024-02-22T16:41:38.240190Z",
     "shell.execute_reply": "2024-02-22T16:41:38.238958Z"
    },
    "papermill": {
     "duration": 0.020359,
     "end_time": "2024-02-22T16:41:38.242851",
     "exception": false,
     "start_time": "2024-02-22T16:41:38.222492",
     "status": "completed"
    },
    "tags": []
   },
   "outputs": [],
   "source": [
    "def get_riders_teams_PCSpoints(n_riders, rider_data):\n",
    "    for i in range (n_riders//100):\n",
    "        PCS_ranking_url = f\"\"\"https://www.procyclingstats.com/rankings.php?\n",
    "                          nation=&age=&zage=&page=smallerorequal&team=&offset={100*i}\n",
    "                          &teamlevel=&filter=Filter\"\"\"\n",
    "        response = requests.get(PCS_ranking_url)\n",
    "        soup = BeautifulSoup(response.content, \"html.parser\")\n",
    "        ranking_table = soup.find(\"table\", class_=\"basic\")\n",
    "        for row in ranking_table.find_all(\"tr\")[1:]:\n",
    "            links = row.find_all(\"a\", href=True)\n",
    "            rider = links[0].get(\"href\").split(\"/\")[-1]\n",
    "            team = links[1].get(\"href\").split(\"/\")[-1]\n",
    "            points = links[2].text        \n",
    "            rider_data[rider] = {\"Team\": team, \"PCSpoints\": points}"
   ]
  },
  {
   "cell_type": "markdown",
   "id": "dab99148",
   "metadata": {
    "papermill": {
     "duration": 0.006692,
     "end_time": "2024-02-22T16:41:38.256276",
     "exception": false,
     "start_time": "2024-02-22T16:41:38.249584",
     "status": "completed"
    },
    "tags": []
   },
   "source": [
    "Let's use the rider identifiers to retrieve their age and weight."
   ]
  },
  {
   "cell_type": "code",
   "execution_count": 4,
   "id": "d1c3246d",
   "metadata": {
    "execution": {
     "iopub.execute_input": "2024-02-22T16:41:38.271523Z",
     "iopub.status.busy": "2024-02-22T16:41:38.271116Z",
     "iopub.status.idle": "2024-02-22T16:41:38.279477Z",
     "shell.execute_reply": "2024-02-22T16:41:38.278241Z"
    },
    "papermill": {
     "duration": 0.019061,
     "end_time": "2024-02-22T16:41:38.281951",
     "exception": false,
     "start_time": "2024-02-22T16:41:38.262890",
     "status": "completed"
    },
    "tags": []
   },
   "outputs": [],
   "source": [
    "def get_age_weight(rider_data):\n",
    "    for rider in rider_data.keys():\n",
    "        rider_profile_url = f\"https://www.procyclingstats.com/rider/{rider}\"\n",
    "        response = requests.get(rider_profile_url)\n",
    "        soup = BeautifulSoup(response.content, \"html.parser\")\n",
    "        info = soup.find(\"div\", class_ =\"rdr-info-cont\")\n",
    "        fields = info.find_all(\"b\")    \n",
    "        rider_data[rider][\"Age\"] = re.search(r'\\((.*?)\\)', info.text).group(1)\n",
    "        for field in fields:\n",
    "            label = field.get_text(strip=True)\n",
    "            if label not in [\"\", \"Date of birth:\", \"Nationality:\", \"Place of birth:\"]:\n",
    "                value = field.next_sibling.strip()\n",
    "                rider_data[rider][label] = value"
   ]
  },
  {
   "cell_type": "code",
   "execution_count": 5,
   "id": "725eb2d0",
   "metadata": {
    "execution": {
     "iopub.execute_input": "2024-02-22T16:41:38.298186Z",
     "iopub.status.busy": "2024-02-22T16:41:38.297801Z",
     "iopub.status.idle": "2024-02-22T16:41:38.312663Z",
     "shell.execute_reply": "2024-02-22T16:41:38.311467Z"
    },
    "papermill": {
     "duration": 0.026074,
     "end_time": "2024-02-22T16:41:38.315134",
     "exception": false,
     "start_time": "2024-02-22T16:41:38.289060",
     "status": "completed"
    },
    "tags": []
   },
   "outputs": [],
   "source": [
    "def get_sporza_results(years, rider_data, DN_values):\n",
    "    count = 0\n",
    "    for race in sporza_races:\n",
    "        for year in years:\n",
    "            race_name = f\"{race}/{year}\"\n",
    "            race_url = f\"https://www.procyclingstats.com/race/{race_name}/result\"\n",
    "            try:\n",
    "                response = requests.get(race_url)\n",
    "                count += 1\n",
    "            except:\n",
    "                print(f\"Page {race_url} didn't respond.\")\n",
    "            soup = BeautifulSoup(response.content, \"html.parser\")\n",
    "            for row in soup.find(\"tbody\").find_all(\"tr\"):\n",
    "                rider = row.find(\"input\", class_=\"gotoH2H\").get(\"data-seo\")\n",
    "                if rider in rider_data.keys():\n",
    "                    fields = row.find_all(\"td\")\n",
    "                    placement = fields[0].get_text(strip=True)\n",
    "                    if placement == \"DNS\":\n",
    "                        placement = DN_values[0]\n",
    "                    if placement == \"DNF\":\n",
    "                        placement = DN_values[1]\n",
    "                    if placement == \"OTL\":\n",
    "                        placement = DN_values[1]\n",
    "                    if placement == \"DSQ\":\n",
    "                        placement = DN_values[2]\n",
    "                    UCI_points = fields[7].get_text(strip=True)\n",
    "                    ptn = fields[8].get_text(strip=True)\n",
    "                    rider_data[rider][race_name] = int(placement)\n",
    "                    if UCI_points != \"\":\n",
    "                        if \"UCI_points\" in rider_data.get(rider, {}):\n",
    "                            rider_data[rider][\"UCI_points\"] += int(UCI_points)\n",
    "                        else:\n",
    "                             rider_data[rider][f\"UCI_points\"] = int(UCI_points)\n",
    "                    if ptn != \"\":\n",
    "                        if f\"ptn/{year}\" in rider_data.get(rider, {}):\n",
    "                            rider_data[rider][f\"ptn/{year}\"] += int(ptn)\n",
    "                        else:\n",
    "                             rider_data[rider][f\"ptn/{year}\"] = int(ptn)\n",
    "    print(f\"\"\"Successfully retrieved the results of\n",
    "          {count}/{len(sporza_races)*len(years)} races.\"\"\")"
   ]
  },
  {
   "cell_type": "markdown",
   "id": "26772e4e",
   "metadata": {
    "papermill": {
     "duration": 0.006089,
     "end_time": "2024-02-22T16:41:38.327639",
     "exception": false,
     "start_time": "2024-02-22T16:41:38.321550",
     "status": "completed"
    },
    "tags": []
   },
   "source": [
    "Preprocessing of the retrieved data includes:\n",
    "* Creating a dataframe of the retrieved data\n",
    "* Resetting the index so the rider's names are in a separate column\n",
    "* Renaming some columns\n",
    "* Converting the team name using a one hot encoding\n",
    "* Converting PCSpoints and Age from string to int and cut\n",
    "* Converting the Weight and Heights strings to int and float respectively as well. If a rider has not gained points in a certain season, let's set it to zero instead of NaN.\n",
    "* Converting all race results to integers. x for DNS, y for DNF/OTL and z for DSQ."
   ]
  },
  {
   "cell_type": "code",
   "execution_count": 6,
   "id": "a68b22b4",
   "metadata": {
    "execution": {
     "iopub.execute_input": "2024-02-22T16:41:38.342360Z",
     "iopub.status.busy": "2024-02-22T16:41:38.341971Z",
     "iopub.status.idle": "2024-02-22T16:41:38.351061Z",
     "shell.execute_reply": "2024-02-22T16:41:38.349847Z"
    },
    "papermill": {
     "duration": 0.019378,
     "end_time": "2024-02-22T16:41:38.353396",
     "exception": false,
     "start_time": "2024-02-22T16:41:38.334018",
     "status": "completed"
    },
    "tags": []
   },
   "outputs": [],
   "source": [
    "def preprocess_rider_data(years, rider_data):\n",
    "    rider_data = pd.DataFrame(rider_data).T\n",
    "    #rider_data.reset_index(inplace=True)\n",
    "    rider_data.rename(columns={\"index\": \"Name\", \"Weight:\": \"Weight\", \"Height:\": \"Height\"}, inplace=True)\n",
    "    rider_data = pd.get_dummies(rider_data, columns=[\"Team\"])\n",
    "    rider_data[\"PCSpoints\"] = rider_data[\"PCSpoints\"].astype(int)\n",
    "    rider_data[\"Age\"] = rider_data[\"Age\"].astype(int)\n",
    "    rider_data[\"Weight\"] = rider_data[\"Weight\"].apply(\n",
    "        lambda x: int(x[:2]) if isinstance(x, str) else x)\n",
    "    rider_data[\"Height\"] = rider_data[\"Height\"].apply(\n",
    "        lambda x: float(x.split()[0]) if isinstance(x, str) else x)\n",
    "    for year in years:\n",
    "        rider_data[f\"ptn/{year}\"].fillna(0, inplace=True)\n",
    "    return rider_data"
   ]
  },
  {
   "cell_type": "code",
   "execution_count": 7,
   "id": "8fedcd1e",
   "metadata": {
    "execution": {
     "iopub.execute_input": "2024-02-22T16:41:38.368263Z",
     "iopub.status.busy": "2024-02-22T16:41:38.367867Z",
     "iopub.status.idle": "2024-02-22T16:43:30.049077Z",
     "shell.execute_reply": "2024-02-22T16:43:30.047708Z"
    },
    "papermill": {
     "duration": 111.700283,
     "end_time": "2024-02-22T16:43:30.060129",
     "exception": false,
     "start_time": "2024-02-22T16:41:38.359846",
     "status": "completed"
    },
    "tags": []
   },
   "outputs": [
    {
     "name": "stdout",
     "output_type": "stream",
     "text": [
      "Successfully retrieved the results of\n",
      "          36/36 races.\n"
     ]
    },
    {
     "name": "stderr",
     "output_type": "stream",
     "text": [
      "/tmp/ipykernel_18/659595699.py:13: FutureWarning: A value is trying to be set on a copy of a DataFrame or Series through chained assignment using an inplace method.\n",
      "The behavior will change in pandas 3.0. This inplace method will never work because the intermediate object on which we are setting values always behaves as a copy.\n",
      "\n",
      "For example, when doing 'df[col].method(value, inplace=True)', try using 'df.method({col: value}, inplace=True)' or df[col] = df[col].method(value) instead, to perform the operation inplace on the original object.\n",
      "\n",
      "\n",
      "  rider_data[f\"ptn/{year}\"].fillna(0, inplace=True)\n",
      "/tmp/ipykernel_18/659595699.py:13: FutureWarning: Downcasting object dtype arrays on .fillna, .ffill, .bfill is deprecated and will change in a future version. Call result.infer_objects(copy=False) instead. To opt-in to the future behavior, set `pd.set_option('future.no_silent_downcasting', True)`\n",
      "  rider_data[f\"ptn/{year}\"].fillna(0, inplace=True)\n"
     ]
    }
   ],
   "source": [
    "n_riders = 100\n",
    "DN_values = [100, 200, 300] # Placement if a rider DNS, DNF/OTL and DSQ respectively\n",
    "#years = [2018, 2019, 2021, 2022, 2023]\n",
    "years = [2018, 2019]\n",
    "rider_data = {}\n",
    "get_riders_teams_PCSpoints(n_riders, rider_data)\n",
    "get_age_weight(rider_data)\n",
    "get_sporza_results(years, rider_data, DN_values)\n",
    "rider_data = preprocess_rider_data(years, rider_data)"
   ]
  },
  {
   "cell_type": "markdown",
   "id": "3d429c3d",
   "metadata": {
    "papermill": {
     "duration": 0.006913,
     "end_time": "2024-02-22T16:43:30.073781",
     "exception": false,
     "start_time": "2024-02-22T16:43:30.066868",
     "status": "completed"
    },
    "tags": []
   },
   "source": [
    "The data is ready to be formatted for the model now. For each race, all riders that participated in that race will form a group together and the inverse of their placement will serve as a relevance score."
   ]
  },
  {
   "cell_type": "code",
   "execution_count": 8,
   "id": "be516359",
   "metadata": {
    "execution": {
     "iopub.execute_input": "2024-02-22T16:43:30.089607Z",
     "iopub.status.busy": "2024-02-22T16:43:30.088847Z",
     "iopub.status.idle": "2024-02-22T16:43:30.121470Z",
     "shell.execute_reply": "2024-02-22T16:43:30.120313Z"
    },
    "papermill": {
     "duration": 0.043491,
     "end_time": "2024-02-22T16:43:30.124095",
     "exception": false,
     "start_time": "2024-02-22T16:43:30.080604",
     "status": "completed"
    },
    "tags": []
   },
   "outputs": [
    {
     "name": "stderr",
     "output_type": "stream",
     "text": [
      "/tmp/ipykernel_18/830953595.py:12: FutureWarning: Downcasting object dtype arrays on .fillna, .ffill, .bfill is deprecated and will change in a future version. Call result.infer_objects(copy=False) instead. To opt-in to the future behavior, set `pd.set_option('future.no_silent_downcasting', True)`\n",
      "  q_rider_data.fillna(100, inplace=True)\n"
     ]
    }
   ],
   "source": [
    "q_rider_data = pd.DataFrame()\n",
    "for race in sporza_races[:2]:\n",
    "    for year in years:\n",
    "        race_name = f\"{race}/{year}\"\n",
    "        participating_riders = rider_data[rider_data[race_name].notna()].copy()\n",
    "        # The next line will set the race results as the objective for the group. The original results\n",
    "        # will be set to NaN so they don't are exactly the same as the objective.\n",
    "        participating_riders.rename(columns={race_name: \"Objective\"}, inplace=True)\n",
    "        participating_riders[\"ID\"] = race_name\n",
    "        q_rider_data = pd.concat([q_rider_data, participating_riders], ignore_index=True)\n",
    "q_rider_data = q_rider_data[[\"ID\", \"Objective\"] + [col for col in q_rider_data.columns if col not in [\"ID\", \"Objective\"]]]\n",
    "q_rider_data.fillna(100, inplace=True)\n",
    "q_rider_data[\"Objective\"] = q_rider_data[\"Objective\"].astype(int)"
   ]
  },
  {
   "cell_type": "markdown",
   "id": "e91c2747",
   "metadata": {
    "papermill": {
     "duration": 0.007705,
     "end_time": "2024-02-22T16:43:30.138921",
     "exception": false,
     "start_time": "2024-02-22T16:43:30.131216",
     "status": "completed"
    },
    "tags": []
   },
   "source": [
    "Each ID now represents a race. All riders that have competed in that race have a copy of their stats with this ID and their result in that race set as the objective. Their original result column is set to 100 because otherwise it would be the same as the objective."
   ]
  },
  {
   "cell_type": "markdown",
   "id": "e07a19a5",
   "metadata": {
    "papermill": {
     "duration": 0.006825,
     "end_time": "2024-02-22T16:43:30.152512",
     "exception": false,
     "start_time": "2024-02-22T16:43:30.145687",
     "status": "completed"
    },
    "tags": []
   },
   "source": [
    "The train-test split."
   ]
  },
  {
   "cell_type": "code",
   "execution_count": 9,
   "id": "5370e0c9",
   "metadata": {
    "execution": {
     "iopub.execute_input": "2024-02-22T16:43:30.169994Z",
     "iopub.status.busy": "2024-02-22T16:43:30.169194Z",
     "iopub.status.idle": "2024-02-22T16:43:30.183114Z",
     "shell.execute_reply": "2024-02-22T16:43:30.181763Z"
    },
    "papermill": {
     "duration": 0.026267,
     "end_time": "2024-02-22T16:43:30.186187",
     "exception": false,
     "start_time": "2024-02-22T16:43:30.159920",
     "status": "completed"
    },
    "tags": []
   },
   "outputs": [],
   "source": [
    "training_percentage = 0.8\n",
    "cut_off = round(training_percentage*q_rider_data.shape[0])\n",
    "train_df = q_rider_data[:cut_off]  # first 80%\n",
    "validation_df = q_rider_data[cut_off:]  # remaining 20%\n",
    "q_train = train_df.groupby(\"ID\")[\"ID\"].count().to_numpy()\n",
    "X_train = train_df.drop([\"ID\", \"Objective\"], axis=1)\n",
    "y_train = train_df[\"Objective\"]\n",
    "\n",
    "q_validation = validation_df.groupby(\"ID\")[\"ID\"].count().to_numpy()\n",
    "X_validation = validation_df.drop([\"ID\", \"Objective\"], axis=1)\n",
    "y_validation = validation_df[\"Objective\"]"
   ]
  },
  {
   "cell_type": "code",
   "execution_count": 10,
   "id": "d70a2129",
   "metadata": {
    "execution": {
     "iopub.execute_input": "2024-02-22T16:43:30.202324Z",
     "iopub.status.busy": "2024-02-22T16:43:30.201854Z",
     "iopub.status.idle": "2024-02-22T16:43:30.211103Z",
     "shell.execute_reply": "2024-02-22T16:43:30.209933Z"
    },
    "papermill": {
     "duration": 0.020189,
     "end_time": "2024-02-22T16:43:30.213626",
     "exception": false,
     "start_time": "2024-02-22T16:43:30.193437",
     "status": "completed"
    },
    "tags": []
   },
   "outputs": [
    {
     "data": {
      "text/plain": [
       "(53, 67)"
      ]
     },
     "execution_count": 10,
     "metadata": {},
     "output_type": "execute_result"
    }
   ],
   "source": [
    "q_rider_data.shape"
   ]
  },
  {
   "cell_type": "markdown",
   "id": "560a0a9d",
   "metadata": {
    "papermill": {
     "duration": 0.007086,
     "end_time": "2024-02-22T16:43:30.227779",
     "exception": false,
     "start_time": "2024-02-22T16:43:30.220693",
     "status": "completed"
    },
    "tags": []
   },
   "source": [
    "Model training."
   ]
  },
  {
   "cell_type": "code",
   "execution_count": 11,
   "id": "71bb57f7",
   "metadata": {
    "_kg_hide-input": true,
    "execution": {
     "iopub.execute_input": "2024-02-22T16:43:30.244686Z",
     "iopub.status.busy": "2024-02-22T16:43:30.244193Z",
     "iopub.status.idle": "2024-02-22T16:43:30.250374Z",
     "shell.execute_reply": "2024-02-22T16:43:30.248614Z"
    },
    "papermill": {
     "duration": 0.017977,
     "end_time": "2024-02-22T16:43:30.253251",
     "exception": false,
     "start_time": "2024-02-22T16:43:30.235274",
     "status": "completed"
    },
    "tags": []
   },
   "outputs": [],
   "source": [
    "#model = lgb.LGBMRanker(\n",
    "#    objective=\"lambdarank\",\n",
    "#    metric=\"ndcg\",\n",
    "#)\n",
    "#\n",
    "#model.fit(\n",
    "#    X=X_train,\n",
    "#    y=y_train,\n",
    "#    group=q_train,\n",
    "#    eval_set=[(X_validation, y_validation)],\n",
    "#    eval_group=[q_validation],\n",
    "#    eval_at=10,\n",
    "#)"
   ]
  },
  {
   "cell_type": "code",
   "execution_count": null,
   "id": "2783e7fc",
   "metadata": {
    "papermill": {
     "duration": 0.007189,
     "end_time": "2024-02-22T16:43:30.268063",
     "exception": false,
     "start_time": "2024-02-22T16:43:30.260874",
     "status": "completed"
    },
    "tags": []
   },
   "outputs": [],
   "source": []
  }
 ],
 "metadata": {
  "kaggle": {
   "accelerator": "none",
   "dataSources": [
    {
     "datasetId": 4460489,
     "sourceId": 7651309,
     "sourceType": "datasetVersion"
    }
   ],
   "dockerImageVersionId": 30646,
   "isGpuEnabled": false,
   "isInternetEnabled": true,
   "language": "python",
   "sourceType": "notebook"
  },
  "kernelspec": {
   "display_name": "Python 3",
   "language": "python",
   "name": "python3"
  },
  "language_info": {
   "codemirror_mode": {
    "name": "ipython",
    "version": 3
   },
   "file_extension": ".py",
   "mimetype": "text/x-python",
   "name": "python",
   "nbconvert_exporter": "python",
   "pygments_lexer": "ipython3",
   "version": "3.10.13"
  },
  "papermill": {
   "default_parameters": {},
   "duration": 120.655155,
   "end_time": "2024-02-22T16:43:31.097735",
   "environment_variables": {},
   "exception": null,
   "input_path": "__notebook__.ipynb",
   "output_path": "__notebook__.ipynb",
   "parameters": {},
   "start_time": "2024-02-22T16:41:30.442580",
   "version": "2.5.0"
  }
 },
 "nbformat": 4,
 "nbformat_minor": 5
}
